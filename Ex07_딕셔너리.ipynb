{
 "cells": [
  {
   "cell_type": "markdown",
   "id": "fea7ef68",
   "metadata": {},
   "source": [
    "### 딕셔너리란?\n",
    "- Key와 Value를 한쌍으로 갖는 자료형\n",
    "- 불변하는 Key와 가변/불변적인 Value로 맵핑된 순서가 없는 집함\n",
    "- 인덱싱, 슬라이싱이 불가능하다."
   ]
  },
  {
   "cell_type": "markdown",
   "id": "848ade70",
   "metadata": {},
   "source": [
    "### 딕셔너리 선언"
   ]
  },
  {
   "cell_type": "code",
   "execution_count": 1,
   "id": "5577acc7",
   "metadata": {
    "ExecuteTime": {
     "end_time": "2023-06-30T06:37:15.793817Z",
     "start_time": "2023-06-30T06:37:15.779830Z"
    }
   },
   "outputs": [],
   "source": [
    "# 딕셔너리 명 = {Key : Value, Key : Value}\n",
    "a = {} # 빈 딕셔너리}\n",
    "b = {'name' : 'hw'} # 이름정보(문자열)를 담은 딕셔너리\n",
    "c = {1 : 'hw', 2 : 27} # 하나의 딕셔너리에는 다양한 자료형을 담을 수 있음\n",
    "d = {'name' : {'현우', '래정', '희운'}} # value 값으로 리스트를 묶어서 담을 수 있음\n",
    "    \n",
    "# 명확하게 뭔가를 정의하고 정의하고 싶을 때 사용"
   ]
  },
  {
   "cell_type": "code",
   "execution_count": 2,
   "id": "f9d12f0e",
   "metadata": {
    "ExecuteTime": {
     "end_time": "2023-06-30T06:37:15.808778Z",
     "start_time": "2023-06-30T06:37:15.794790Z"
    }
   },
   "outputs": [
    {
     "name": "stdout",
     "output_type": "stream",
     "text": [
      "{}\n",
      "{'name': 'hw'}\n",
      "{1: 'hw', 2: 27}\n",
      "{'name': {'현우', '희운', '래정'}}\n"
     ]
    }
   ],
   "source": [
    "print(a)\n",
    "print(b)\n",
    "print(c)\n",
    "print(d)"
   ]
  },
  {
   "cell_type": "code",
   "execution_count": 3,
   "id": "aa665470",
   "metadata": {
    "ExecuteTime": {
     "end_time": "2023-06-30T06:37:15.823738Z",
     "start_time": "2023-06-30T06:37:15.810748Z"
    }
   },
   "outputs": [
    {
     "data": {
      "text/plain": [
       "{'name': 'HW', 'age': 27, 'phone': '010-8927-0775'}"
      ]
     },
     "execution_count": 3,
     "metadata": {},
     "output_type": "execute_result"
    }
   ],
   "source": [
    "dic1 = {'name' : 'HW', 'age' : 27, 'phone' : '010-8927-0775'}\n",
    "dic1"
   ]
  },
  {
   "cell_type": "code",
   "execution_count": 4,
   "id": "4ecaf445",
   "metadata": {
    "ExecuteTime": {
     "end_time": "2023-06-30T06:37:15.838877Z",
     "start_time": "2023-06-30T06:37:15.824711Z"
    }
   },
   "outputs": [
    {
     "name": "stdout",
     "output_type": "stream",
     "text": [
      "<class 'dict'>\n"
     ]
    }
   ],
   "source": [
    "print(type(dic1))"
   ]
  },
  {
   "cell_type": "markdown",
   "id": "148a7ad2",
   "metadata": {
    "ExecuteTime": {
     "end_time": "2023-06-30T05:37:31.382023Z",
     "start_time": "2023-06-30T05:37:31.368107Z"
    }
   },
   "source": [
    "### 딕셔너리 값 추가\n",
    "- 새로운 키 : 새로운 값\n",
    "- 없는 키값을 부르고 value값을 대입"
   ]
  },
  {
   "cell_type": "code",
   "execution_count": 5,
   "id": "ce73703f",
   "metadata": {
    "ExecuteTime": {
     "end_time": "2023-06-30T06:37:15.853961Z",
     "start_time": "2023-06-30T06:37:15.839875Z"
    }
   },
   "outputs": [],
   "source": [
    "dic1['birth'] = '07/11'"
   ]
  },
  {
   "cell_type": "code",
   "execution_count": 6,
   "id": "1df2d70c",
   "metadata": {
    "ExecuteTime": {
     "end_time": "2023-06-30T06:37:15.869208Z",
     "start_time": "2023-06-30T06:37:15.855093Z"
    }
   },
   "outputs": [
    {
     "data": {
      "text/plain": [
       "{'name': 'HW', 'age': 27, 'phone': '010-8927-0775', 'birth': '07/11'}"
      ]
     },
     "execution_count": 6,
     "metadata": {},
     "output_type": "execute_result"
    }
   ],
   "source": [
    "dic1"
   ]
  },
  {
   "cell_type": "code",
   "execution_count": 7,
   "id": "40268eb8",
   "metadata": {
    "ExecuteTime": {
     "end_time": "2023-06-30T06:37:15.884238Z",
     "start_time": "2023-06-30T06:37:15.870206Z"
    }
   },
   "outputs": [],
   "source": [
    "dic_test = {'노래제목' : '사건의 지평선'}"
   ]
  },
  {
   "cell_type": "code",
   "execution_count": 8,
   "id": "d3a60380",
   "metadata": {
    "ExecuteTime": {
     "end_time": "2023-06-30T06:37:15.899223Z",
     "start_time": "2023-06-30T06:37:15.885236Z"
    }
   },
   "outputs": [],
   "source": [
    "dic_test['가수'], dic_test['날짜'] = '윤하', '2022.12.01'"
   ]
  },
  {
   "cell_type": "code",
   "execution_count": 9,
   "id": "951bae3f",
   "metadata": {
    "ExecuteTime": {
     "end_time": "2023-06-30T06:37:15.914280Z",
     "start_time": "2023-06-30T06:37:15.902200Z"
    }
   },
   "outputs": [
    {
     "data": {
      "text/plain": [
       "{'노래제목': '사건의 지평선', '가수': '윤하', '날짜': '2022.12.01'}"
      ]
     },
     "execution_count": 9,
     "metadata": {},
     "output_type": "execute_result"
    }
   ],
   "source": [
    "dic_test"
   ]
  },
  {
   "cell_type": "markdown",
   "id": "14430bec",
   "metadata": {},
   "source": [
    "### 딕셔너리 값 가져오기(데이터 접근하기)"
   ]
  },
  {
   "cell_type": "code",
   "execution_count": 10,
   "id": "64d27b42",
   "metadata": {
    "ExecuteTime": {
     "end_time": "2023-06-30T06:37:15.929668Z",
     "start_time": "2023-06-30T06:37:15.917549Z"
    }
   },
   "outputs": [
    {
     "data": {
      "text/plain": [
       "{'name': 'HW', 'age': 27, 'phone': '010-8927-0775', 'birth': '07/11'}"
      ]
     },
     "execution_count": 10,
     "metadata": {},
     "output_type": "execute_result"
    }
   ],
   "source": [
    "dic1"
   ]
  },
  {
   "cell_type": "code",
   "execution_count": 11,
   "id": "eb5d060e",
   "metadata": {
    "ExecuteTime": {
     "end_time": "2023-06-30T06:37:15.945024Z",
     "start_time": "2023-06-30T06:37:15.931663Z"
    }
   },
   "outputs": [
    {
     "data": {
      "text/plain": [
       "'HW'"
      ]
     },
     "execution_count": 11,
     "metadata": {},
     "output_type": "execute_result"
    }
   ],
   "source": [
    "# dic1에서 이름\n",
    "dic1['name']"
   ]
  },
  {
   "cell_type": "code",
   "execution_count": 12,
   "id": "2e8399f5",
   "metadata": {
    "ExecuteTime": {
     "end_time": "2023-06-30T06:37:15.960107Z",
     "start_time": "2023-06-30T06:37:15.945997Z"
    }
   },
   "outputs": [
    {
     "data": {
      "text/plain": [
       "{'name': 'HW', 'age': 27, 'phone': '010-1111-1111', 'birth': '07/11'}"
      ]
     },
     "execution_count": 12,
     "metadata": {},
     "output_type": "execute_result"
    }
   ],
   "source": [
    "# dic1에서 폰 정보 가져오기\n",
    "dic1['phone'] = '010-1111-1111'\n",
    "dic1"
   ]
  },
  {
   "cell_type": "code",
   "execution_count": 13,
   "id": "751a7cfc",
   "metadata": {
    "ExecuteTime": {
     "end_time": "2023-06-30T06:37:15.975379Z",
     "start_time": "2023-06-30T06:37:15.961076Z"
    }
   },
   "outputs": [
    {
     "data": {
      "text/plain": [
       "'HW'"
      ]
     },
     "execution_count": 13,
     "metadata": {},
     "output_type": "execute_result"
    }
   ],
   "source": [
    "# 데이터에 접근할 때 사용하는 함수  : get(키)\n",
    "dic1.get('name')"
   ]
  },
  {
   "cell_type": "code",
   "execution_count": 14,
   "id": "7e3bf7ea",
   "metadata": {
    "ExecuteTime": {
     "end_time": "2023-06-30T06:37:15.990509Z",
     "start_time": "2023-06-30T06:37:15.976356Z"
    }
   },
   "outputs": [
    {
     "data": {
      "text/plain": [
       "'07/11'"
      ]
     },
     "execution_count": 14,
     "metadata": {},
     "output_type": "execute_result"
    }
   ],
   "source": [
    "# 생일 데이터를 가져오기\n",
    "dic1.get('birth')"
   ]
  },
  {
   "cell_type": "markdown",
   "id": "6298ed38",
   "metadata": {
    "ExecuteTime": {
     "end_time": "2023-06-30T05:51:03.714959Z",
     "start_time": "2023-06-30T05:51:03.694825Z"
    }
   },
   "source": [
    "#### 딕셔너리 접근 방법 비교\n",
    "- 딕셔너리명[키] vs 딕셔너리명.get(키)"
   ]
  },
  {
   "cell_type": "code",
   "execution_count": 15,
   "id": "2e142793",
   "metadata": {
    "ExecuteTime": {
     "end_time": "2023-06-30T06:37:16.111711Z",
     "start_time": "2023-06-30T06:37:15.992474Z"
    }
   },
   "outputs": [
    {
     "ename": "KeyError",
     "evalue": "'blood'",
     "output_type": "error",
     "traceback": [
      "\u001b[1;31m---------------------------------------------------------------------------\u001b[0m",
      "\u001b[1;31mKeyError\u001b[0m                                  Traceback (most recent call last)",
      "\u001b[1;32m~\\AppData\\Local\\Temp\\ipykernel_12328\\2942224263.py\u001b[0m in \u001b[0;36m<module>\u001b[1;34m\u001b[0m\n\u001b[0;32m      1\u001b[0m \u001b[1;31m# 1. 딕셔너리명[키]로 접근할 때\u001b[0m\u001b[1;33m\u001b[0m\u001b[1;33m\u001b[0m\u001b[0m\n\u001b[1;32m----> 2\u001b[1;33m \u001b[0mdic1\u001b[0m\u001b[1;33m[\u001b[0m\u001b[1;34m'blood'\u001b[0m\u001b[1;33m]\u001b[0m\u001b[1;33m\u001b[0m\u001b[1;33m\u001b[0m\u001b[0m\n\u001b[0m\u001b[0;32m      3\u001b[0m \u001b[1;31m# 없는 키값을 부른다면 오류 발생\u001b[0m\u001b[1;33m\u001b[0m\u001b[1;33m\u001b[0m\u001b[0m\n",
      "\u001b[1;31mKeyError\u001b[0m: 'blood'"
     ]
    }
   ],
   "source": [
    "# 1. 딕셔너리명[키]로 접근할 때 \n",
    "dic1['blood']\n",
    "# 없는 키값을 부른다면 오류 발생"
   ]
  },
  {
   "cell_type": "code",
   "execution_count": null,
   "id": "eaa19e23",
   "metadata": {
    "ExecuteTime": {
     "end_time": "2023-06-30T06:37:16.125009Z",
     "start_time": "2023-06-30T06:37:16.125009Z"
    }
   },
   "outputs": [],
   "source": [
    "# 2. 딕셔너리명.get(키)\n",
    "a = dic1.get('blood')\n",
    "print(a)\n",
    "# 없는 키값을 불러도 오류가 발생하지 않는다."
   ]
  },
  {
   "cell_type": "code",
   "execution_count": null,
   "id": "7101afae",
   "metadata": {
    "ExecuteTime": {
     "end_time": "2023-06-30T06:37:16.126006Z",
     "start_time": "2023-06-30T06:37:16.126006Z"
    }
   },
   "outputs": [],
   "source": [
    "a"
   ]
  },
  {
   "cell_type": "code",
   "execution_count": null,
   "id": "727919dc",
   "metadata": {
    "ExecuteTime": {
     "end_time": "2023-06-30T06:37:16.127004Z",
     "start_time": "2023-06-30T06:37:16.127004Z"
    }
   },
   "outputs": [],
   "source": [
    "# 예외 처리 : try ~ except\n",
    "try : \n",
    "    result = dic1['blood']\n",
    "    result\n",
    "except KeyError :\n",
    "    print('없는 키값입니다.')"
   ]
  },
  {
   "cell_type": "markdown",
   "id": "30fdbb9d",
   "metadata": {},
   "source": [
    "### 딕셔너리 관련 함수\n",
    "- 데이터에 접근하는 방법들"
   ]
  },
  {
   "cell_type": "code",
   "execution_count": null,
   "id": "6cab6759",
   "metadata": {
    "ExecuteTime": {
     "end_time": "2023-06-30T06:37:16.128001Z",
     "start_time": "2023-06-30T06:37:16.128001Z"
    }
   },
   "outputs": [],
   "source": [
    "dic1"
   ]
  },
  {
   "cell_type": "markdown",
   "id": "d6f24132",
   "metadata": {},
   "source": [
    "#### 딕셔너리 키값만 가져오기"
   ]
  },
  {
   "cell_type": "code",
   "execution_count": null,
   "id": "9962152e",
   "metadata": {
    "ExecuteTime": {
     "end_time": "2023-06-30T06:37:16.128001Z",
     "start_time": "2023-06-30T06:37:16.128001Z"
    }
   },
   "outputs": [],
   "source": [
    "dic1.keys()"
   ]
  },
  {
   "cell_type": "code",
   "execution_count": null,
   "id": "4a4f48d9",
   "metadata": {
    "ExecuteTime": {
     "end_time": "2023-06-30T06:37:16.128999Z",
     "start_time": "2023-06-30T06:37:16.128999Z"
    }
   },
   "outputs": [],
   "source": [
    "dic1.keys()\n",
    "# name이라는 키에 접근하고 싶다 --> 키 값을 인덱싱하겠다.\n",
    "# 리스트로 형변환하여 키 값들을 인덱싱으로 활용할 수 있음.\n",
    "list(dic1.keys())"
   ]
  },
  {
   "cell_type": "code",
   "execution_count": null,
   "id": "26e9cd92",
   "metadata": {
    "ExecuteTime": {
     "end_time": "2023-06-30T06:37:16.130993Z",
     "start_time": "2023-06-30T06:37:16.130993Z"
    }
   },
   "outputs": [],
   "source": [
    "list(dic1.keys())[0]"
   ]
  },
  {
   "cell_type": "markdown",
   "id": "142e8eec",
   "metadata": {},
   "source": [
    "#### 딕셔너리 value값만 가져오기"
   ]
  },
  {
   "cell_type": "code",
   "execution_count": null,
   "id": "08b1e290",
   "metadata": {
    "ExecuteTime": {
     "end_time": "2023-06-30T06:37:16.131990Z",
     "start_time": "2023-06-30T06:37:16.131990Z"
    }
   },
   "outputs": [],
   "source": [
    "dic1.values()"
   ]
  },
  {
   "cell_type": "code",
   "execution_count": null,
   "id": "75b17b86",
   "metadata": {
    "ExecuteTime": {
     "end_time": "2023-06-30T06:37:16.132988Z",
     "start_time": "2023-06-30T06:37:16.132988Z"
    }
   },
   "outputs": [],
   "source": [
    "list(dic1.values())"
   ]
  },
  {
   "cell_type": "code",
   "execution_count": null,
   "id": "81ea9203",
   "metadata": {
    "ExecuteTime": {
     "end_time": "2023-06-30T06:37:16.133985Z",
     "start_time": "2023-06-30T06:37:16.133985Z"
    }
   },
   "outputs": [],
   "source": [
    "list(dic1.values())[1]"
   ]
  },
  {
   "cell_type": "markdown",
   "id": "00b907b3",
   "metadata": {},
   "source": [
    "#### 딕셔너리 key, value 모두 가져오기\n",
    "- items()"
   ]
  },
  {
   "cell_type": "code",
   "execution_count": null,
   "id": "4eb7e891",
   "metadata": {
    "ExecuteTime": {
     "end_time": "2023-06-30T06:37:16.134983Z",
     "start_time": "2023-06-30T06:37:16.134983Z"
    }
   },
   "outputs": [],
   "source": [
    "dic1.items()"
   ]
  },
  {
   "cell_type": "code",
   "execution_count": null,
   "id": "7b449cf0",
   "metadata": {
    "ExecuteTime": {
     "end_time": "2023-06-30T06:37:16.134983Z",
     "start_time": "2023-06-30T06:37:16.134983Z"
    }
   },
   "outputs": [],
   "source": [
    "list(dic1.items())"
   ]
  },
  {
   "cell_type": "code",
   "execution_count": null,
   "id": "43cee96e",
   "metadata": {
    "ExecuteTime": {
     "end_time": "2023-06-30T06:37:16.135980Z",
     "start_time": "2023-06-30T06:37:16.135980Z"
    }
   },
   "outputs": [],
   "source": [
    "# 튜플 형태로 출력하기\n",
    "for i in dic1.items() :\n",
    "    print(i) # 패킹된 형태로 출력\n",
    "    "
   ]
  },
  {
   "cell_type": "code",
   "execution_count": null,
   "id": "ba789103",
   "metadata": {
    "ExecuteTime": {
     "end_time": "2023-06-30T06:37:16.136977Z",
     "start_time": "2023-06-30T06:37:16.136977Z"
    }
   },
   "outputs": [],
   "source": [
    "# 언패킹된 형태로 출력\n",
    "for i, j in dic1.items():\n",
    "    print(i, j)"
   ]
  },
  {
   "cell_type": "code",
   "execution_count": 17,
   "id": "14a6ca77",
   "metadata": {
    "ExecuteTime": {
     "end_time": "2023-06-30T06:37:25.683115Z",
     "start_time": "2023-06-30T06:37:25.674140Z"
    }
   },
   "outputs": [],
   "source": [
    "score_dict = {'이름' : ['성춘향', '이몽룡', '김방자', '최향단', '변학도'],\n",
    "               'Python' : [90, 100, 85, 90, 80],\n",
    "               'Java' : [85, 100, 80, 95, 85],\n",
    "               'html/css' : [75, 70, 90, 80, 90]}\n"
   ]
  },
  {
   "cell_type": "code",
   "execution_count": 23,
   "id": "e8bcdb45",
   "metadata": {
    "ExecuteTime": {
     "end_time": "2023-06-30T06:40:23.719786Z",
     "start_time": "2023-06-30T06:40:23.705824Z"
    }
   },
   "outputs": [
    {
     "data": {
      "text/plain": [
       "405"
      ]
     },
     "execution_count": 23,
     "metadata": {},
     "output_type": "execute_result"
    }
   ],
   "source": [
    "sum(score_dict.get('Python'))\n",
    "sum(score_dict.get('Java'))\n",
    "sum(score_dict.get('html/css'))"
   ]
  },
  {
   "cell_type": "code",
   "execution_count": 29,
   "id": "f69c2a28",
   "metadata": {
    "ExecuteTime": {
     "end_time": "2023-06-30T06:42:37.008778Z",
     "start_time": "2023-06-30T06:42:36.994841Z"
    }
   },
   "outputs": [
    {
     "data": {
      "text/plain": [
       "[90, 100, 85, 90, 80]"
      ]
     },
     "execution_count": 29,
     "metadata": {},
     "output_type": "execute_result"
    }
   ],
   "source": [
    "score_dict.get('Python')"
   ]
  },
  {
   "cell_type": "code",
   "execution_count": 25,
   "id": "092bc1d6",
   "metadata": {
    "ExecuteTime": {
     "end_time": "2023-06-30T06:41:04.119013Z",
     "start_time": "2023-06-30T06:41:04.106022Z"
    }
   },
   "outputs": [],
   "source": [
    "for i, j in score_dict.items() :\n",
    "    if i == 'Python' :\n",
    "        py_avg = sum(score_dict.get('Python')) / len(j)\n",
    "    elif i == 'Java' :\n",
    "        java_avg = sum(score_dict.get('Java')) / len(j)\n",
    "    elif i == 'html/css' :\n",
    "        html_avg = sum(score_dict.get('html/css')) / len(j)\n",
    "    else :\n",
    "        continue\n",
    "                             "
   ]
  },
  {
   "cell_type": "code",
   "execution_count": null,
   "id": "0aea6c89",
   "metadata": {
    "ExecuteTime": {
     "end_time": "2023-06-30T06:32:05.416593Z",
     "start_time": "2023-06-30T06:32:05.403628Z"
    }
   },
   "outputs": [],
   "source": []
  },
  {
   "cell_type": "code",
   "execution_count": 26,
   "id": "8acbc862",
   "metadata": {
    "ExecuteTime": {
     "end_time": "2023-06-30T06:41:07.088648Z",
     "start_time": "2023-06-30T06:41:07.073691Z"
    }
   },
   "outputs": [
    {
     "name": "stdout",
     "output_type": "stream",
     "text": [
      "Python 평균 : 89.0\n",
      "Java 평균 : 89.0\n",
      "html/css 평균 : 81.0\n"
     ]
    }
   ],
   "source": [
    "print(f'Python 평균 : {py_avg}')\n",
    "print(f'Java 평균 : {java_avg}')\n",
    "print(f'html/css 평균 : {html_avg}')"
   ]
  },
  {
   "cell_type": "code",
   "execution_count": 40,
   "id": "e5857e26",
   "metadata": {
    "ExecuteTime": {
     "end_time": "2023-06-30T07:01:39.521536Z",
     "start_time": "2023-06-30T07:01:39.511563Z"
    }
   },
   "outputs": [
    {
     "name": "stdout",
     "output_type": "stream",
     "text": [
      "Python 평균 :89.0\n",
      "Java 평균 :89.0\n",
      "html/css 평균 :81.0\n"
     ]
    }
   ],
   "source": [
    "for i in list(score_dict.keys())[1:] :\n",
    "    avg = sum(score_dict[i]) / len(score_dict[i])\n",
    "    print(f'{i} 평균 :{avg}')\n",
    "        "
   ]
  },
  {
   "cell_type": "code",
   "execution_count": 39,
   "id": "eb24fc19",
   "metadata": {
    "ExecuteTime": {
     "end_time": "2023-06-30T07:00:05.102622Z",
     "start_time": "2023-06-30T07:00:05.088659Z"
    }
   },
   "outputs": [
    {
     "data": {
      "text/plain": [
       "89.0"
      ]
     },
     "execution_count": 39,
     "metadata": {},
     "output_type": "execute_result"
    }
   ],
   "source": [
    "py_avg"
   ]
  },
  {
   "cell_type": "markdown",
   "id": "0f7ad0fe",
   "metadata": {},
   "source": [
    "### 딕셔너리 값 삭제\n",
    "- del 키워드\n",
    "- clear()"
   ]
  },
  {
   "cell_type": "code",
   "execution_count": 43,
   "id": "56dbb14e",
   "metadata": {
    "ExecuteTime": {
     "end_time": "2023-06-30T07:13:42.363773Z",
     "start_time": "2023-06-30T07:13:42.349810Z"
    }
   },
   "outputs": [
    {
     "data": {
      "text/plain": [
       "{'name': 'HW', 'age': 27, 'birth': '07/11'}"
      ]
     },
     "execution_count": 43,
     "metadata": {},
     "output_type": "execute_result"
    }
   ],
   "source": [
    "# del 키워드\n",
    "dic1"
   ]
  },
  {
   "cell_type": "code",
   "execution_count": 42,
   "id": "c30966d5",
   "metadata": {
    "ExecuteTime": {
     "end_time": "2023-06-30T07:13:39.423534Z",
     "start_time": "2023-06-30T07:13:39.407561Z"
    }
   },
   "outputs": [],
   "source": [
    "# 폰 정보 삭제하기\n",
    "del dic1['phone'] # 삭제됨과 동시에 초기화"
   ]
  },
  {
   "cell_type": "code",
   "execution_count": 44,
   "id": "e6c1f1fe",
   "metadata": {
    "ExecuteTime": {
     "end_time": "2023-06-30T07:14:36.763329Z",
     "start_time": "2023-06-30T07:14:36.759313Z"
    }
   },
   "outputs": [],
   "source": [
    "# 데이터를 모두 삭제할 때\n",
    "dic1.clear()"
   ]
  },
  {
   "cell_type": "code",
   "execution_count": 45,
   "id": "7b1f0535",
   "metadata": {
    "ExecuteTime": {
     "end_time": "2023-06-30T07:14:39.580257Z",
     "start_time": "2023-06-30T07:14:39.575245Z"
    }
   },
   "outputs": [
    {
     "data": {
      "text/plain": [
       "{}"
      ]
     },
     "execution_count": 45,
     "metadata": {},
     "output_type": "execute_result"
    }
   ],
   "source": [
    "dic1"
   ]
  },
  {
   "cell_type": "code",
   "execution_count": null,
   "id": "f4578e83",
   "metadata": {},
   "outputs": [],
   "source": []
  },
  {
   "cell_type": "code",
   "execution_count": null,
   "id": "d4b86970",
   "metadata": {},
   "outputs": [],
   "source": []
  },
  {
   "cell_type": "code",
   "execution_count": null,
   "id": "0e893143",
   "metadata": {},
   "outputs": [],
   "source": []
  },
  {
   "cell_type": "code",
   "execution_count": null,
   "id": "a86bf25a",
   "metadata": {},
   "outputs": [],
   "source": []
  },
  {
   "cell_type": "code",
   "execution_count": null,
   "id": "bdd26bea",
   "metadata": {},
   "outputs": [],
   "source": []
  },
  {
   "cell_type": "code",
   "execution_count": null,
   "id": "3b483ad4",
   "metadata": {},
   "outputs": [],
   "source": []
  },
  {
   "cell_type": "code",
   "execution_count": null,
   "id": "0fef4768",
   "metadata": {},
   "outputs": [],
   "source": []
  },
  {
   "cell_type": "code",
   "execution_count": null,
   "id": "16c8bc4e",
   "metadata": {},
   "outputs": [],
   "source": []
  },
  {
   "cell_type": "code",
   "execution_count": null,
   "id": "2407fd89",
   "metadata": {},
   "outputs": [],
   "source": []
  },
  {
   "cell_type": "code",
   "execution_count": null,
   "id": "92307911",
   "metadata": {},
   "outputs": [],
   "source": []
  },
  {
   "cell_type": "code",
   "execution_count": null,
   "id": "94889d65",
   "metadata": {},
   "outputs": [],
   "source": []
  },
  {
   "cell_type": "code",
   "execution_count": null,
   "id": "8d9013c8",
   "metadata": {},
   "outputs": [],
   "source": []
  },
  {
   "cell_type": "code",
   "execution_count": null,
   "id": "a11f39ab",
   "metadata": {},
   "outputs": [],
   "source": []
  },
  {
   "cell_type": "code",
   "execution_count": null,
   "id": "02e3b2fb",
   "metadata": {},
   "outputs": [],
   "source": []
  },
  {
   "cell_type": "code",
   "execution_count": null,
   "id": "087400cb",
   "metadata": {},
   "outputs": [],
   "source": []
  }
 ],
 "metadata": {
  "kernelspec": {
   "display_name": "Python 3 (ipykernel)",
   "language": "python",
   "name": "python3"
  },
  "language_info": {
   "codemirror_mode": {
    "name": "ipython",
    "version": 3
   },
   "file_extension": ".py",
   "mimetype": "text/x-python",
   "name": "python",
   "nbconvert_exporter": "python",
   "pygments_lexer": "ipython3",
   "version": "3.9.13"
  },
  "toc": {
   "base_numbering": 1,
   "nav_menu": {},
   "number_sections": true,
   "sideBar": true,
   "skip_h1_title": false,
   "title_cell": "Table of Contents",
   "title_sidebar": "Contents",
   "toc_cell": false,
   "toc_position": {},
   "toc_section_display": true,
   "toc_window_display": true
  },
  "varInspector": {
   "cols": {
    "lenName": 16,
    "lenType": 16,
    "lenVar": 40
   },
   "kernels_config": {
    "python": {
     "delete_cmd_postfix": "",
     "delete_cmd_prefix": "del ",
     "library": "var_list.py",
     "varRefreshCmd": "print(var_dic_list())"
    },
    "r": {
     "delete_cmd_postfix": ") ",
     "delete_cmd_prefix": "rm(",
     "library": "var_list.r",
     "varRefreshCmd": "cat(var_dic_list()) "
    }
   },
   "types_to_exclude": [
    "module",
    "function",
    "builtin_function_or_method",
    "instance",
    "_Feature"
   ],
   "window_display": false
  }
 },
 "nbformat": 4,
 "nbformat_minor": 5
}
