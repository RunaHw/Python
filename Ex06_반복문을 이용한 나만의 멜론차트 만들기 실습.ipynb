{
 "cells": [
  {
   "cell_type": "code",
   "execution_count": 1,
   "id": "3d468404",
   "metadata": {
    "ExecuteTime": {
     "end_time": "2023-06-28T08:46:12.849739Z",
     "start_time": "2023-06-28T08:46:12.835784Z"
    }
   },
   "outputs": [],
   "source": [
    "import pickle"
   ]
  },
  {
   "cell_type": "code",
   "execution_count": 2,
   "id": "b716c1ac",
   "metadata": {
    "ExecuteTime": {
     "end_time": "2023-06-28T08:46:12.865244Z",
     "start_time": "2023-06-28T08:46:12.850746Z"
    }
   },
   "outputs": [],
   "source": [
    "# 멜론차트의 데이터를 불러와서 데이터 확인하기\n",
    "# with문 사용해서 데이터 블러오기\n",
    "with open('music_100.pkl', 'rb') as f : # 'rb' : read binary\n",
    "    music = pickle.load(f)"
   ]
  },
  {
   "cell_type": "code",
   "execution_count": 3,
   "id": "cd92b765",
   "metadata": {
    "ExecuteTime": {
     "end_time": "2023-06-28T08:46:12.880204Z",
     "start_time": "2023-06-28T08:46:12.866241Z"
    }
   },
   "outputs": [
    {
     "data": {
      "text/plain": [
       "[[1, '퀸카 (Queencard)', '(여자)아이들'],\n",
       " [2, 'I AM', 'IVE (아이브)'],\n",
       " [3, 'Spicy', 'aespa'],\n",
       " [4, '이브, 프시케 그리고 푸른 수염의 아내', 'LE SSERAFIM (르세라핌)'],\n",
       " [5, 'UNFORGIVEN (feat. Nile Rodgers)', 'LE SSERAFIM (르세라핌)']]"
      ]
     },
     "execution_count": 3,
     "metadata": {},
     "output_type": "execute_result"
    }
   ],
   "source": [
    "music[:5]"
   ]
  },
  {
   "cell_type": "code",
   "execution_count": 4,
   "id": "7a25aa21",
   "metadata": {
    "ExecuteTime": {
     "end_time": "2023-06-28T08:46:16.436335Z",
     "start_time": "2023-06-28T08:46:12.881201Z"
    }
   },
   "outputs": [
    {
     "name": "stdout",
     "output_type": "stream",
     "text": [
      "제목 중 찾고 싶은 키워드를 입력하세요 >> 5\n",
      "'5'으로 검색한 노래 수 : 0곡\n",
      "순위와 노래 제목 : []\n"
     ]
    }
   ],
   "source": [
    "keyword = input('제목 중 찾고 싶은 키워드를 입력하세요 >> ')\n",
    "s_cnt = 0 # 찾은 노래 곡수 담을 변수\n",
    "song_list = [] # 찾은 노래의 순위정보와 노래제목을 담을 빈 리스트\n",
    "\n",
    "\n",
    "for i in music :\n",
    "    if keyword in i[1] :\n",
    "        s_cnt += 1\n",
    "        song_list.append([i[0], i[1]])\n",
    "        \n",
    "print(f'\\'{keyword}\\'으로 검색한 노래 수 : {s_cnt}곡')\n",
    "print(f'순위와 노래 제목 : {song_list}')\n",
    "    "
   ]
  },
  {
   "cell_type": "code",
   "execution_count": 5,
   "id": "66374768",
   "metadata": {
    "ExecuteTime": {
     "end_time": "2023-06-28T08:46:16.451347Z",
     "start_time": "2023-06-28T08:46:16.437232Z"
    }
   },
   "outputs": [
    {
     "data": {
      "text/plain": [
       "[[1, '퀸카 (Queencard)', '(여자)아이들'],\n",
       " [2, 'I AM', 'IVE (아이브)'],\n",
       " [3, 'Spicy', 'aespa'],\n",
       " [4, '이브, 프시케 그리고 푸른 수염의 아내', 'LE SSERAFIM (르세라핌)'],\n",
       " [5, 'UNFORGIVEN (feat. Nile Rodgers)', 'LE SSERAFIM (르세라핌)']]"
      ]
     },
     "execution_count": 5,
     "metadata": {},
     "output_type": "execute_result"
    }
   ],
   "source": [
    "music[:5]"
   ]
  },
  {
   "cell_type": "code",
   "execution_count": 6,
   "id": "3ad0916a",
   "metadata": {
    "ExecuteTime": {
     "end_time": "2023-06-28T08:46:16.466394Z",
     "start_time": "2023-06-28T08:46:16.452312Z"
    }
   },
   "outputs": [],
   "source": [
    "# 1.1위곡 삭제 \n",
    "del music[0]"
   ]
  },
  {
   "cell_type": "code",
   "execution_count": 7,
   "id": "e5b2bf16",
   "metadata": {
    "ExecuteTime": {
     "end_time": "2023-06-28T08:46:16.481335Z",
     "start_time": "2023-06-28T08:46:16.467272Z"
    }
   },
   "outputs": [
    {
     "data": {
      "text/plain": [
       "[[2, 'I AM', 'IVE (아이브)'],\n",
       " [3, 'Spicy', 'aespa'],\n",
       " [4, '이브, 프시케 그리고 푸른 수염의 아내', 'LE SSERAFIM (르세라핌)'],\n",
       " [5, 'UNFORGIVEN (feat. Nile Rodgers)', 'LE SSERAFIM (르세라핌)'],\n",
       " [6, 'Kitsch', 'IVE (아이브)']]"
      ]
     },
     "execution_count": 7,
     "metadata": {},
     "output_type": "execute_result"
    }
   ],
   "source": [
    "# 확인\n",
    "music[:5]"
   ]
  },
  {
   "cell_type": "code",
   "execution_count": 8,
   "id": "ecfa5078",
   "metadata": {
    "ExecuteTime": {
     "end_time": "2023-06-28T08:46:16.496407Z",
     "start_time": "2023-06-28T08:46:16.482329Z"
    }
   },
   "outputs": [],
   "source": [
    "# 1위곡으로 자신의 최애곡 추가\n",
    "music.append([1, '베텔기우스', '유우리'])"
   ]
  },
  {
   "cell_type": "code",
   "execution_count": 11,
   "id": "8e414e51",
   "metadata": {
    "ExecuteTime": {
     "end_time": "2023-06-28T08:46:34.751168Z",
     "start_time": "2023-06-28T08:46:34.731102Z"
    }
   },
   "outputs": [
    {
     "data": {
      "text/plain": [
       "[[1, '베텔기우스', '유우리'],\n",
       " [2, 'I AM', 'IVE (아이브)'],\n",
       " [3, 'Spicy', 'aespa'],\n",
       " [4, '이브, 프시케 그리고 푸른 수염의 아내', 'LE SSERAFIM (르세라핌)'],\n",
       " [5, 'UNFORGIVEN (feat. Nile Rodgers)', 'LE SSERAFIM (르세라핌)']]"
      ]
     },
     "execution_count": 11,
     "metadata": {},
     "output_type": "execute_result"
    }
   ],
   "source": [
    "# 추가 확인\n",
    "music[:5]\n",
    "# 정렬후 순위별 출력하기\n",
    "music.sort()\n",
    "music[:5]"
   ]
  },
  {
   "cell_type": "code",
   "execution_count": null,
   "id": "b5b03917",
   "metadata": {},
   "outputs": [],
   "source": []
  },
  {
   "cell_type": "code",
   "execution_count": null,
   "id": "222e0c9f",
   "metadata": {},
   "outputs": [],
   "source": []
  },
  {
   "cell_type": "code",
   "execution_count": null,
   "id": "96582c1b",
   "metadata": {},
   "outputs": [],
   "source": []
  },
  {
   "cell_type": "code",
   "execution_count": null,
   "id": "7dd27b0c",
   "metadata": {},
   "outputs": [],
   "source": []
  },
  {
   "cell_type": "code",
   "execution_count": null,
   "id": "e1dff37b",
   "metadata": {},
   "outputs": [],
   "source": []
  },
  {
   "cell_type": "code",
   "execution_count": null,
   "id": "e516c709",
   "metadata": {},
   "outputs": [],
   "source": []
  },
  {
   "cell_type": "code",
   "execution_count": null,
   "id": "ae8a9ca2",
   "metadata": {},
   "outputs": [],
   "source": []
  },
  {
   "cell_type": "code",
   "execution_count": null,
   "id": "089a0bfe",
   "metadata": {},
   "outputs": [],
   "source": []
  },
  {
   "cell_type": "code",
   "execution_count": null,
   "id": "f099700c",
   "metadata": {},
   "outputs": [],
   "source": []
  },
  {
   "cell_type": "code",
   "execution_count": null,
   "id": "0f575c3d",
   "metadata": {},
   "outputs": [],
   "source": []
  },
  {
   "cell_type": "code",
   "execution_count": null,
   "id": "b0c683ba",
   "metadata": {},
   "outputs": [],
   "source": []
  }
 ],
 "metadata": {
  "kernelspec": {
   "display_name": "Python 3 (ipykernel)",
   "language": "python",
   "name": "python3"
  },
  "language_info": {
   "codemirror_mode": {
    "name": "ipython",
    "version": 3
   },
   "file_extension": ".py",
   "mimetype": "text/x-python",
   "name": "python",
   "nbconvert_exporter": "python",
   "pygments_lexer": "ipython3",
   "version": "3.9.13"
  },
  "toc": {
   "base_numbering": 1,
   "nav_menu": {},
   "number_sections": true,
   "sideBar": true,
   "skip_h1_title": false,
   "title_cell": "Table of Contents",
   "title_sidebar": "Contents",
   "toc_cell": false,
   "toc_position": {},
   "toc_section_display": true,
   "toc_window_display": false
  },
  "varInspector": {
   "cols": {
    "lenName": 16,
    "lenType": 16,
    "lenVar": 40
   },
   "kernels_config": {
    "python": {
     "delete_cmd_postfix": "",
     "delete_cmd_prefix": "del ",
     "library": "var_list.py",
     "varRefreshCmd": "print(var_dic_list())"
    },
    "r": {
     "delete_cmd_postfix": ") ",
     "delete_cmd_prefix": "rm(",
     "library": "var_list.r",
     "varRefreshCmd": "cat(var_dic_list()) "
    }
   },
   "types_to_exclude": [
    "module",
    "function",
    "builtin_function_or_method",
    "instance",
    "_Feature"
   ],
   "window_display": false
  }
 },
 "nbformat": 4,
 "nbformat_minor": 5
}
