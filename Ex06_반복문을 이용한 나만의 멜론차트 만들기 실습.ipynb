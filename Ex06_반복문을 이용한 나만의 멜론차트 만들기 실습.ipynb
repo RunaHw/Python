{
 "cells": [
  {
   "cell_type": "markdown",
   "id": "79f9925d",
   "metadata": {},
   "source": [
    "### melon top _100 데이터를 활용한 나만의 멜론차트 만들기"
   ]
  },
  {
   "cell_type": "code",
   "execution_count": 1,
   "id": "3d468404",
   "metadata": {
    "ExecuteTime": {
     "end_time": "2023-06-29T00:19:52.469463Z",
     "start_time": "2023-06-29T00:19:52.455475Z"
    }
   },
   "outputs": [],
   "source": [
    "import pickle"
   ]
  },
  {
   "cell_type": "code",
   "execution_count": 2,
   "id": "b716c1ac",
   "metadata": {
    "ExecuteTime": {
     "end_time": "2023-06-29T00:19:52.484523Z",
     "start_time": "2023-06-29T00:19:52.470460Z"
    }
   },
   "outputs": [],
   "source": [
    "# 멜론차트의 데이터를 불러와서 데이터 확인하기\n",
    "# with문 사용해서 데이터 블러오기\n",
    "with open('music_100.pkl', 'rb') as f : # 'rb' : read binary\n",
    "    music = pickle.load(f)"
   ]
  },
  {
   "cell_type": "code",
   "execution_count": 3,
   "id": "cd92b765",
   "metadata": {
    "ExecuteTime": {
     "end_time": "2023-06-29T00:19:52.499643Z",
     "start_time": "2023-06-29T00:19:52.486518Z"
    }
   },
   "outputs": [
    {
     "data": {
      "text/plain": [
       "[[1, '퀸카 (Queencard)', '(여자)아이들'],\n",
       " [2, 'I AM', 'IVE (아이브)'],\n",
       " [3, 'Spicy', 'aespa'],\n",
       " [4, '이브, 프시케 그리고 푸른 수염의 아내', 'LE SSERAFIM (르세라핌)'],\n",
       " [5, 'UNFORGIVEN (feat. Nile Rodgers)', 'LE SSERAFIM (르세라핌)']]"
      ]
     },
     "execution_count": 3,
     "metadata": {},
     "output_type": "execute_result"
    }
   ],
   "source": [
    "music[:5]"
   ]
  },
  {
   "cell_type": "code",
   "execution_count": 4,
   "id": "7a25aa21",
   "metadata": {
    "ExecuteTime": {
     "end_time": "2023-06-29T00:19:54.763478Z",
     "start_time": "2023-06-29T00:19:52.502662Z"
    }
   },
   "outputs": [
    {
     "name": "stdout",
     "output_type": "stream",
     "text": [
      "제목 중 찾고 싶은 키워드를 입력하세요 >> 2\n",
      "'2'으로 검색한 노래 수 : 6곡\n",
      "순위와 노래 제목 : [[49, '사람 Pt.2 (feat. 아이유)'], [51, 'Heaven(2023)'], [65, '첫 키스에 내 심장은 120BPM'], [67, 'Dreamers [Music from the FIFA World Cup Qatar 2022 Official Soundtrack] (Feat. FIFA Sound)'], [75, '한사람만 (2023) (여름날 우리 X 이홍기 (FT아일랜드))'], [78, '해요 (2022)']]\n"
     ]
    }
   ],
   "source": [
    "keyword = input('제목 중 찾고 싶은 키워드를 입력하세요 >> ')\n",
    "s_cnt = 0 # 찾은 노래 곡수 담을 변수\n",
    "song_list = [] # 찾은 노래의 순위정보와 노래제목을 담을 빈 리스트\n",
    "\n",
    "\n",
    "for i in music :\n",
    "    if keyword in i[1] :\n",
    "        s_cnt += 1\n",
    "        song_list.append([i[0], i[1]])\n",
    "        \n",
    "print(f'\\'{keyword}\\'으로 검색한 노래 수 : {s_cnt}곡')\n",
    "print(f'순위와 노래 제목 : {song_list}')\n",
    "    "
   ]
  },
  {
   "cell_type": "code",
   "execution_count": 5,
   "id": "66374768",
   "metadata": {
    "ExecuteTime": {
     "end_time": "2023-06-29T00:19:54.778662Z",
     "start_time": "2023-06-29T00:19:54.764477Z"
    }
   },
   "outputs": [
    {
     "data": {
      "text/plain": [
       "[[1, '퀸카 (Queencard)', '(여자)아이들'],\n",
       " [2, 'I AM', 'IVE (아이브)'],\n",
       " [3, 'Spicy', 'aespa'],\n",
       " [4, '이브, 프시케 그리고 푸른 수염의 아내', 'LE SSERAFIM (르세라핌)'],\n",
       " [5, 'UNFORGIVEN (feat. Nile Rodgers)', 'LE SSERAFIM (르세라핌)']]"
      ]
     },
     "execution_count": 5,
     "metadata": {},
     "output_type": "execute_result"
    }
   ],
   "source": [
    "music[:5]"
   ]
  },
  {
   "cell_type": "code",
   "execution_count": 6,
   "id": "3ad0916a",
   "metadata": {
    "ExecuteTime": {
     "end_time": "2023-06-29T00:19:54.793540Z",
     "start_time": "2023-06-29T00:19:54.780365Z"
    }
   },
   "outputs": [],
   "source": [
    "# 1.1위곡 삭제 \n",
    "del music[0]"
   ]
  },
  {
   "cell_type": "code",
   "execution_count": 7,
   "id": "e5b2bf16",
   "metadata": {
    "ExecuteTime": {
     "end_time": "2023-06-29T00:19:54.808340Z",
     "start_time": "2023-06-29T00:19:54.794093Z"
    }
   },
   "outputs": [
    {
     "data": {
      "text/plain": [
       "[[2, 'I AM', 'IVE (아이브)'],\n",
       " [3, 'Spicy', 'aespa'],\n",
       " [4, '이브, 프시케 그리고 푸른 수염의 아내', 'LE SSERAFIM (르세라핌)'],\n",
       " [5, 'UNFORGIVEN (feat. Nile Rodgers)', 'LE SSERAFIM (르세라핌)'],\n",
       " [6, 'Kitsch', 'IVE (아이브)']]"
      ]
     },
     "execution_count": 7,
     "metadata": {},
     "output_type": "execute_result"
    }
   ],
   "source": [
    "# 확인\n",
    "music[:5]"
   ]
  },
  {
   "cell_type": "code",
   "execution_count": 8,
   "id": "ecfa5078",
   "metadata": {
    "ExecuteTime": {
     "end_time": "2023-06-29T00:19:54.823330Z",
     "start_time": "2023-06-29T00:19:54.808946Z"
    }
   },
   "outputs": [],
   "source": [
    "# 1위곡으로 자신의 최애곡 추가\n",
    "music.append([1, '베텔기우스', '유우리'])"
   ]
  },
  {
   "cell_type": "code",
   "execution_count": 9,
   "id": "8e414e51",
   "metadata": {
    "ExecuteTime": {
     "end_time": "2023-06-29T00:19:54.838170Z",
     "start_time": "2023-06-29T00:19:54.826365Z"
    }
   },
   "outputs": [
    {
     "data": {
      "text/plain": [
       "[[1, '베텔기우스', '유우리'],\n",
       " [2, 'I AM', 'IVE (아이브)'],\n",
       " [3, 'Spicy', 'aespa'],\n",
       " [4, '이브, 프시케 그리고 푸른 수염의 아내', 'LE SSERAFIM (르세라핌)'],\n",
       " [5, 'UNFORGIVEN (feat. Nile Rodgers)', 'LE SSERAFIM (르세라핌)']]"
      ]
     },
     "execution_count": 9,
     "metadata": {},
     "output_type": "execute_result"
    }
   ],
   "source": [
    "# 추가 확인\n",
    "music[:5]\n",
    "# 정렬후 순위별 출력하기\n",
    "music.sort()\n",
    "music[:5]"
   ]
  },
  {
   "cell_type": "code",
   "execution_count": 26,
   "id": "b5b03917",
   "metadata": {
    "ExecuteTime": {
     "end_time": "2023-06-29T00:34:33.783392Z",
     "start_time": "2023-06-29T00:34:31.938625Z"
    }
   },
   "outputs": [
    {
     "name": "stdout",
     "output_type": "stream",
     "text": [
      "가수를 입력하세요 >> aespa\n",
      "['Spicy', 'Thirsty', 'Salty & Sweet']\n"
     ]
    }
   ],
   "source": [
    "# 특정 가수의 노래 리스트 만들기\n",
    "singer = input('가수를 입력하세요 >> ')\n",
    "new_list = []\n",
    "for i in music :\n",
    "    if i[-1] == singer :\n",
    "        new_list.append(i[1])\n",
    "print(new_list)"
   ]
  },
  {
   "cell_type": "code",
   "execution_count": 13,
   "id": "1b59aa03",
   "metadata": {
    "ExecuteTime": {
     "end_time": "2023-06-29T00:23:14.930075Z",
     "start_time": "2023-06-29T00:23:14.915629Z"
    }
   },
   "outputs": [
    {
     "data": {
      "text/plain": [
       "[[1, '베텔기우스', '유우리'],\n",
       " [2, 'I AM', 'IVE (아이브)'],\n",
       " [3, 'Spicy', 'aespa'],\n",
       " [4, '이브, 프시케 그리고 푸른 수염의 아내', 'LE SSERAFIM (르세라핌)'],\n",
       " [5, 'UNFORGIVEN (feat. Nile Rodgers)', 'LE SSERAFIM (르세라핌)'],\n",
       " [6, 'Kitsch', 'IVE (아이브)'],\n",
       " [7, 'Hype boy', 'NewJeans'],\n",
       " [8, '꽃', '지수 (JISOO)'],\n",
       " [9, '사랑은 늘 도망가', '임영웅'],\n",
       " [10, '손오공', '세븐틴 (SEVENTEEN)'],\n",
       " [11, '헤어지자 말해요', '박재정'],\n",
       " [12, 'Ditto', 'NewJeans'],\n",
       " [13, '모래 알갱이', '임영웅'],\n",
       " [14, 'Cupid', 'FIFTY FIFTY'],\n",
       " [15, '우리들의 블루스', '임영웅'],\n",
       " [16, '다시 만날 수 있을까', '임영웅'],\n",
       " [17, 'OMG', 'NewJeans'],\n",
       " [18, '무지개', '임영웅'],\n",
       " [19, 'Allergy', '(여자)아이들'],\n",
       " [20, '사건의 지평선', '윤하 (YOUNHA)'],\n",
       " [21, '파이팅 해야지 (Feat. 이영지)', '부석순 (SEVENTEEN)'],\n",
       " [22, \"I Don't Think That I Like Her\", 'Charlie Puth'],\n",
       " [23, 'After LIKE', 'IVE (아이브)'],\n",
       " [24, 'London Boy', '임영웅'],\n",
       " [25, '이제 나만 믿어요', '임영웅'],\n",
       " [26, 'Polaroid', '임영웅'],\n",
       " [27, 'Dangerously', 'Charlie Puth'],\n",
       " [28, '아버지', '임영웅'],\n",
       " [29, 'Candy', 'NCT DREAM'],\n",
       " [30, 'LOVE DIVE', 'IVE (아이브)'],\n",
       " [31, 'Teddy Bear', 'STAYC(스테이씨)'],\n",
       " [32, 'Attention', 'NewJeans'],\n",
       " [33, '인생찬가', '임영웅'],\n",
       " [34, 'A bientot', '임영웅'],\n",
       " [35, 'Dynamite', '방탄소년단'],\n",
       " [36, '물론', '허각'],\n",
       " [37, '손이 참 곱던 그대', '임영웅'],\n",
       " [38, '심(心)', 'DK(디셈버)'],\n",
       " [39, '사랑해 진짜', '임영웅'],\n",
       " [40, '연애편지', '임영웅'],\n",
       " [41, 'ANTIFRAGILE', 'LE SSERAFIM (르세라핌)'],\n",
       " [42, '잠깐 시간 될까', '이무진'],\n",
       " [43, '사랑..그게 뭔데', '지아'],\n",
       " [44, '보금자리', '임영웅'],\n",
       " [45, 'Broken Melodies', 'NCT DREAM'],\n",
       " [46, 'NIGHT DANCER', 'imase'],\n",
       " [47, 'Butter', '방탄소년단'],\n",
       " [48, '사랑하지 않아서 그랬어', '임한별'],\n",
       " [49, '사람 Pt.2 (feat. 아이유)', 'Agust D'],\n",
       " [50, 'Take Two', '방탄소년단'],\n",
       " [51, 'Heaven(2023)', '임재현'],\n",
       " [52, '사랑인가 봐', '멜로망스'],\n",
       " [53, 'Like Crazy', '지민'],\n",
       " [54, '찬란한 하루', '멜로망스'],\n",
       " [55, '봄날', '방탄소년단'],\n",
       " [56, '빛이 나는 너에게', '던 (DAWN)'],\n",
       " [57, '사실말야내가말야그게그러니까말이야', '케이시 (Kassy)'],\n",
       " [58, '너의 모든 순간', '성시경'],\n",
       " [59, '건물 사이에 피어난 장미 (Rose Blossom)', 'H1-KEY (하이키)'],\n",
       " [60, 'Permission to Dance', '방탄소년단'],\n",
       " [61, 'KNOCK', '이채연'],\n",
       " [62, '나에게 그대만이', '탑현'],\n",
       " [63, 'Thirsty', 'aespa'],\n",
       " [64, 'The Planet', '방탄소년단'],\n",
       " [65, '첫 키스에 내 심장은 120BPM', '경서'],\n",
       " [66, \"That's Hilarious\", 'Charlie Puth'],\n",
       " [67,\n",
       "  'Dreamers [Music from the FIFA World Cup Qatar 2022 Official Soundtrack] (Feat. FIFA Sound)',\n",
       "  '정국, 방탄소년단'],\n",
       " [68, 'Nxde', '(여자)아이들'],\n",
       " [69, 'TOMBOY', '(여자)아이들'],\n",
       " [70, '부동의 첫사랑', '10CM'],\n",
       " [71,\n",
       "  'Angel Pt. 1 (Feat. Kodak Black, NLE Choppa, JVKE, Muni Long)',\n",
       "  'Fast & Furious: The Fast Saga, 지민'],\n",
       " [72, 'STAY', 'The Kid LAROI, Justin Bieber'],\n",
       " [73, 'CHRISTIAN', 'Zior Park'],\n",
       " [74, '사랑의 바보', '제이세라'],\n",
       " [75, '한사람만 (2023) (여름날 우리 X 이홍기 (FT아일랜드))', '이홍기 (FT아일랜드)'],\n",
       " [76, '나의 바람 (Wind And Wish)', '비투비'],\n",
       " [77, '안녕이라고 말하지마', 'V.O.S'],\n",
       " [78, '해요 (2022)', '#안녕'],\n",
       " [79, 'FRIEND THE END', '볼빨간사춘기'],\n",
       " [80, 'Love Me Like This', 'NMIXX'],\n",
       " [81, '한강에서 (Feat. BIG Naughty)', '폴킴'],\n",
       " [82, '취중고백', '김민석 (멜로망스)'],\n",
       " [83, 'LOCKDOWN', '이세계아이돌'],\n",
       " [84, 'ELEVEN', 'IVE (아이브)'],\n",
       " [85, '그라데이션', '10CM'],\n",
       " [86, 'That’s Not How This Works (feat. Dan + Shay)', 'Charlie Puth'],\n",
       " [87, 'Monologue', '테이'],\n",
       " [88, '사랑하기 싫어', '지아'],\n",
       " [89, 'on the street (with J. Cole)', 'j-hope, J. Cole'],\n",
       " [90, 'FEARLESS', 'LE SSERAFIM (르세라핌)'],\n",
       " [91, '다정히 내 이름을 부르면', '경서예지, 전건호'],\n",
       " [92, 'Shut Down', 'BLACKPINK'],\n",
       " [93, '사랑하지 않아서 그랬니', '지아'],\n",
       " [94, '정이라고 하자 (Feat. 10CM)', 'BIG Naughty (서동현)'],\n",
       " [95, '내가 아니라도', '주호'],\n",
       " [96, 'Say I Love You', '우디 (Woody)'],\n",
       " [97, 'Pink Venom', 'BLACKPINK'],\n",
       " [98, '그중에 그대를 만나', '김호중'],\n",
       " [99, '새삥 (Prod. ZICO) (Feat. 호미들)', '지코 (ZICO)'],\n",
       " [100, 'Salty & Sweet', 'aespa']]"
      ]
     },
     "execution_count": 13,
     "metadata": {},
     "output_type": "execute_result"
    }
   ],
   "source": [
    "music"
   ]
  },
  {
   "cell_type": "code",
   "execution_count": 32,
   "id": "eb3ba72e",
   "metadata": {
    "ExecuteTime": {
     "end_time": "2023-06-29T01:23:49.591998Z",
     "start_time": "2023-06-29T01:23:49.581026Z"
    }
   },
   "outputs": [
    {
     "data": {
      "text/plain": [
       "[[9, '사랑은 늘 도망가', '박현우'],\n",
       " [13, '모래 알갱이', '박현우'],\n",
       " [15, '우리들의 블루스', '박현우'],\n",
       " [16, '다시 만날 수 있을까', '박현우'],\n",
       " [18, '무지개', '박현우'],\n",
       " [24, 'London Boy', '박현우'],\n",
       " [25, '이제 나만 믿어요', '박현우'],\n",
       " [26, 'Polaroid', '박현우'],\n",
       " [28, '아버지', '박현우'],\n",
       " [33, '인생찬가', '박현우'],\n",
       " [34, 'A bientot', '박현우'],\n",
       " [37, '손이 참 곱던 그대', '박현우'],\n",
       " [39, '사랑해 진짜', '박현우'],\n",
       " [40, '연애편지', '박현우'],\n",
       " [44, '보금자리', '박현우']]"
      ]
     },
     "execution_count": 32,
     "metadata": {},
     "output_type": "execute_result"
    }
   ],
   "source": [
    "my_list = []\n",
    "\n",
    "for i in music:\n",
    "    if i[-1] == '임영웅' : \n",
    "        my_list.append([i[0], i[1], '박현우'])\n",
    "    \n",
    "my_list"
   ]
  },
  {
   "cell_type": "code",
   "execution_count": 34,
   "id": "64e1b885",
   "metadata": {
    "ExecuteTime": {
     "end_time": "2023-06-29T01:23:53.594619Z",
     "start_time": "2023-06-29T01:23:53.573701Z"
    }
   },
   "outputs": [
    {
     "data": {
      "text/plain": [
       "[[1, '베텔기우스', '유우리'],\n",
       " [2, 'I AM', 'IVE (아이브)'],\n",
       " [3, 'Spicy', 'aespa'],\n",
       " [4, '이브, 프시케 그리고 푸른 수염의 아내', 'LE SSERAFIM (르세라핌)'],\n",
       " [5, 'UNFORGIVEN (feat. Nile Rodgers)', 'LE SSERAFIM (르세라핌)'],\n",
       " [6, 'Kitsch', 'IVE (아이브)'],\n",
       " [7, 'Hype boy', 'NewJeans'],\n",
       " [8, '꽃', '지수 (JISOO)'],\n",
       " [9, '사랑은 늘 도망가', '임영웅'],\n",
       " [10, '손오공', '세븐틴 (SEVENTEEN)'],\n",
       " [11, '헤어지자 말해요', '박재정'],\n",
       " [12, 'Ditto', 'NewJeans'],\n",
       " [13, '모래 알갱이', '임영웅'],\n",
       " [14, 'Cupid', 'FIFTY FIFTY'],\n",
       " [15, '우리들의 블루스', '임영웅'],\n",
       " [16, '다시 만날 수 있을까', '임영웅'],\n",
       " [17, 'OMG', 'NewJeans'],\n",
       " [18, '무지개', '임영웅'],\n",
       " [19, 'Allergy', '(여자)아이들'],\n",
       " [20, '사건의 지평선', '윤하 (YOUNHA)'],\n",
       " [21, '파이팅 해야지 (Feat. 이영지)', '부석순 (SEVENTEEN)'],\n",
       " [22, \"I Don't Think That I Like Her\", 'Charlie Puth'],\n",
       " [23, 'After LIKE', 'IVE (아이브)'],\n",
       " [24, 'London Boy', '임영웅'],\n",
       " [25, '이제 나만 믿어요', '임영웅'],\n",
       " [26, 'Polaroid', '임영웅'],\n",
       " [27, 'Dangerously', 'Charlie Puth'],\n",
       " [28, '아버지', '임영웅'],\n",
       " [29, 'Candy', 'NCT DREAM'],\n",
       " [30, 'LOVE DIVE', 'IVE (아이브)'],\n",
       " [31, 'Teddy Bear', 'STAYC(스테이씨)'],\n",
       " [32, 'Attention', 'NewJeans'],\n",
       " [33, '인생찬가', '임영웅'],\n",
       " [34, 'A bientot', '임영웅'],\n",
       " [35, 'Dynamite', '방탄소년단'],\n",
       " [36, '물론', '허각'],\n",
       " [37, '손이 참 곱던 그대', '임영웅'],\n",
       " [38, '심(心)', 'DK(디셈버)'],\n",
       " [39, '사랑해 진짜', '임영웅'],\n",
       " [40, '연애편지', '임영웅'],\n",
       " [41, 'ANTIFRAGILE', 'LE SSERAFIM (르세라핌)'],\n",
       " [42, '잠깐 시간 될까', '이무진'],\n",
       " [43, '사랑..그게 뭔데', '지아'],\n",
       " [44, '보금자리', '임영웅'],\n",
       " [45, 'Broken Melodies', 'NCT DREAM'],\n",
       " [46, 'NIGHT DANCER', 'imase'],\n",
       " [47, 'Butter', '방탄소년단'],\n",
       " [48, '사랑하지 않아서 그랬어', '임한별'],\n",
       " [49, '사람 Pt.2 (feat. 아이유)', 'Agust D'],\n",
       " [50, 'Take Two', '방탄소년단'],\n",
       " [51, 'Heaven(2023)', '임재현'],\n",
       " [52, '사랑인가 봐', '멜로망스'],\n",
       " [53, 'Like Crazy', '지민'],\n",
       " [54, '찬란한 하루', '멜로망스'],\n",
       " [55, '봄날', '방탄소년단'],\n",
       " [56, '빛이 나는 너에게', '던 (DAWN)'],\n",
       " [57, '사실말야내가말야그게그러니까말이야', '케이시 (Kassy)'],\n",
       " [58, '너의 모든 순간', '성시경'],\n",
       " [59, '건물 사이에 피어난 장미 (Rose Blossom)', 'H1-KEY (하이키)'],\n",
       " [60, 'Permission to Dance', '방탄소년단'],\n",
       " [61, 'KNOCK', '이채연'],\n",
       " [62, '나에게 그대만이', '탑현'],\n",
       " [63, 'Thirsty', 'aespa'],\n",
       " [64, 'The Planet', '방탄소년단'],\n",
       " [65, '첫 키스에 내 심장은 120BPM', '경서'],\n",
       " [66, \"That's Hilarious\", 'Charlie Puth'],\n",
       " [67,\n",
       "  'Dreamers [Music from the FIFA World Cup Qatar 2022 Official Soundtrack] (Feat. FIFA Sound)',\n",
       "  '정국, 방탄소년단'],\n",
       " [68, 'Nxde', '(여자)아이들'],\n",
       " [69, 'TOMBOY', '(여자)아이들'],\n",
       " [70, '부동의 첫사랑', '10CM'],\n",
       " [71,\n",
       "  'Angel Pt. 1 (Feat. Kodak Black, NLE Choppa, JVKE, Muni Long)',\n",
       "  'Fast & Furious: The Fast Saga, 지민'],\n",
       " [72, 'STAY', 'The Kid LAROI, Justin Bieber'],\n",
       " [73, 'CHRISTIAN', 'Zior Park'],\n",
       " [74, '사랑의 바보', '제이세라'],\n",
       " [75, '한사람만 (2023) (여름날 우리 X 이홍기 (FT아일랜드))', '이홍기 (FT아일랜드)'],\n",
       " [76, '나의 바람 (Wind And Wish)', '비투비'],\n",
       " [77, '안녕이라고 말하지마', 'V.O.S'],\n",
       " [78, '해요 (2022)', '#안녕'],\n",
       " [79, 'FRIEND THE END', '볼빨간사춘기'],\n",
       " [80, 'Love Me Like This', 'NMIXX'],\n",
       " [81, '한강에서 (Feat. BIG Naughty)', '폴킴'],\n",
       " [82, '취중고백', '김민석 (멜로망스)'],\n",
       " [83, 'LOCKDOWN', '이세계아이돌'],\n",
       " [84, 'ELEVEN', 'IVE (아이브)'],\n",
       " [85, '그라데이션', '10CM'],\n",
       " [86, 'That’s Not How This Works (feat. Dan + Shay)', 'Charlie Puth'],\n",
       " [87, 'Monologue', '테이'],\n",
       " [88, '사랑하기 싫어', '지아'],\n",
       " [89, 'on the street (with J. Cole)', 'j-hope, J. Cole'],\n",
       " [90, 'FEARLESS', 'LE SSERAFIM (르세라핌)'],\n",
       " [91, '다정히 내 이름을 부르면', '경서예지, 전건호'],\n",
       " [92, 'Shut Down', 'BLACKPINK'],\n",
       " [93, '사랑하지 않아서 그랬니', '지아'],\n",
       " [94, '정이라고 하자 (Feat. 10CM)', 'BIG Naughty (서동현)'],\n",
       " [95, '내가 아니라도', '주호'],\n",
       " [96, 'Say I Love You', '우디 (Woody)'],\n",
       " [97, 'Pink Venom', 'BLACKPINK'],\n",
       " [98, '그중에 그대를 만나', '김호중'],\n",
       " [99, '새삥 (Prod. ZICO) (Feat. 호미들)', '지코 (ZICO)'],\n",
       " [100, 'Salty & Sweet', 'aespa']]"
      ]
     },
     "execution_count": 34,
     "metadata": {},
     "output_type": "execute_result"
    }
   ],
   "source": [
    "music"
   ]
  },
  {
   "cell_type": "code",
   "execution_count": 36,
   "id": "c288b590",
   "metadata": {
    "ExecuteTime": {
     "end_time": "2023-06-29T01:24:09.779281Z",
     "start_time": "2023-06-29T01:24:09.773297Z"
    }
   },
   "outputs": [],
   "source": [
    "# 내가 만든 나만의 멜론차트를 파일로 저장하기\n",
    "with open('mymelon.pkl', 'wb') as f :\n",
    "    pickle.dump(my_list, f)"
   ]
  },
  {
   "cell_type": "code",
   "execution_count": 38,
   "id": "b9bb3850",
   "metadata": {
    "ExecuteTime": {
     "end_time": "2023-06-29T01:25:02.434950Z",
     "start_time": "2023-06-29T01:25:02.413300Z"
    }
   },
   "outputs": [],
   "source": [
    "with open('mymelon.pkl', 'rb') as f :\n",
    "    m = pickle.load(f)"
   ]
  },
  {
   "cell_type": "code",
   "execution_count": 39,
   "id": "222e0c9f",
   "metadata": {
    "ExecuteTime": {
     "end_time": "2023-06-29T01:25:04.254687Z",
     "start_time": "2023-06-29T01:25:04.237487Z"
    }
   },
   "outputs": [
    {
     "data": {
      "text/plain": [
       "[[9, '사랑은 늘 도망가', '박현우'],\n",
       " [13, '모래 알갱이', '박현우'],\n",
       " [15, '우리들의 블루스', '박현우'],\n",
       " [16, '다시 만날 수 있을까', '박현우'],\n",
       " [18, '무지개', '박현우'],\n",
       " [24, 'London Boy', '박현우'],\n",
       " [25, '이제 나만 믿어요', '박현우'],\n",
       " [26, 'Polaroid', '박현우'],\n",
       " [28, '아버지', '박현우'],\n",
       " [33, '인생찬가', '박현우'],\n",
       " [34, 'A bientot', '박현우'],\n",
       " [37, '손이 참 곱던 그대', '박현우'],\n",
       " [39, '사랑해 진짜', '박현우'],\n",
       " [40, '연애편지', '박현우'],\n",
       " [44, '보금자리', '박현우']]"
      ]
     },
     "execution_count": 39,
     "metadata": {},
     "output_type": "execute_result"
    }
   ],
   "source": [
    "m"
   ]
  },
  {
   "cell_type": "markdown",
   "id": "8c0eb529",
   "metadata": {},
   "source": [
    "### 네이버 영화리뷰 데이터를 활용한 분석"
   ]
  },
  {
   "cell_type": "code",
   "execution_count": 42,
   "id": "96582c1b",
   "metadata": {
    "ExecuteTime": {
     "end_time": "2023-06-29T01:30:40.005136Z",
     "start_time": "2023-06-29T01:30:39.997139Z"
    }
   },
   "outputs": [],
   "source": [
    "# 데이터 불러와서 확인하기\n",
    "with open('movie_review.pkl', 'rb') as f :\n",
    "    review = pickle.load(f)"
   ]
  },
  {
   "cell_type": "code",
   "execution_count": 45,
   "id": "7dd27b0c",
   "metadata": {
    "ExecuteTime": {
     "end_time": "2023-06-29T01:32:10.461824Z",
     "start_time": "2023-06-29T01:32:10.444709Z"
    }
   },
   "outputs": [
    {
     "data": {
      "text/plain": [
       "[['아 더빙.. 진짜 짜증나네요 목소리', 0],\n",
       " ['흠...포스터보고 초딩영화줄....오버연기조차 가볍지 않구나', 1],\n",
       " ['너무재밓었다그래서보는것을추천한다', 0],\n",
       " ['교도소 이야기구먼 ..솔직히 재미는 없다..평점 조정', 0],\n",
       " ['사이몬페그의 익살스런 연기가 돋보였던 영화!스파이더맨에서 늙어보이기만 했던 커스틴 던스트가 너무나도 이뻐보였다', 1]]"
      ]
     },
     "execution_count": 45,
     "metadata": {},
     "output_type": "execute_result"
    }
   ],
   "source": [
    "review[:5]\n",
    "# 인덱스 0 : 텍스트 리뷰정보\n",
    "#        1 : 긍정(1)/부정(2) 감성 리뷰정보"
   ]
  },
  {
   "cell_type": "code",
   "execution_count": 51,
   "id": "e1dff37b",
   "metadata": {
    "ExecuteTime": {
     "end_time": "2023-06-29T01:43:56.650387Z",
     "start_time": "2023-06-29T01:43:56.643377Z"
    }
   },
   "outputs": [
    {
     "name": "stdout",
     "output_type": "stream",
     "text": [
      "5000\n",
      "177433\n",
      "리뷰의 평균 길이는 \"35.4866\"입니다.\n"
     ]
    }
   ],
   "source": [
    "sum = 0\n",
    "for i in review :\n",
    "    sum += len(i[0])\n",
    "    \n",
    "print(len(review))\n",
    "print(sum)\n",
    "print(f'리뷰의 평균 길이는 \\\"{sum / len(review)}\\\"입니다.')"
   ]
  },
  {
   "cell_type": "code",
   "execution_count": 52,
   "id": "e516c709",
   "metadata": {
    "ExecuteTime": {
     "end_time": "2023-06-29T02:12:43.339028Z",
     "start_time": "2023-06-29T02:12:43.321891Z"
    }
   },
   "outputs": [
    {
     "name": "stdout",
     "output_type": "stream",
     "text": [
      "긍정 리뷰의 갯수 : 2499\n",
      "부정 리뷰의 갯수 : 2501\n"
     ]
    }
   ],
   "source": [
    "like = 0\n",
    "hate = 0\n",
    "for i in review :\n",
    "    if i[-1] == 1 :\n",
    "        like += 1\n",
    "    else :\n",
    "        hate += 1\n",
    "\n",
    "print(f'긍정 리뷰의 갯수 : {like}')\n",
    "print(f'부정 리뷰의 갯수 : {hate}')"
   ]
  },
  {
   "cell_type": "code",
   "execution_count": null,
   "id": "ae8a9ca2",
   "metadata": {
    "ExecuteTime": {
     "end_time": "2023-06-29T02:25:31.222646Z",
     "start_time": "2023-06-29T02:25:31.207071Z"
    }
   },
   "outputs": [],
   "source": [
    "# 리뷰길이의 최대/ 최소값을 확인하고 그 내용을 출력하기\n",
    "\n",
    "# min, max 함수를 사용하여 최대 / 최소값 확인하기\n",
    "\n",
    "# 최대 길이의 리뷰 뽑아오기 - 개수도 함께 확인\n",
    "\n",
    "# 최소 길이의 리뷰 뽑아서 출력하기"
   ]
  },
  {
   "cell_type": "code",
   "execution_count": 66,
   "id": "089a0bfe",
   "metadata": {
    "ExecuteTime": {
     "end_time": "2023-06-29T02:42:39.848521Z",
     "start_time": "2023-06-29T02:42:39.829251Z"
    }
   },
   "outputs": [
    {
     "name": "stdout",
     "output_type": "stream",
     "text": [
      "1\n",
      "144\n"
     ]
    }
   ],
   "source": [
    "length = []\n",
    "cnt = 0\n",
    "for i in review :\n",
    "    length.append(len(i[0]))\n",
    "    \n",
    "    \n",
    "    \n",
    "print(min(length))\n",
    "print(max(length))"
   ]
  },
  {
   "cell_type": "code",
   "execution_count": 82,
   "id": "f099700c",
   "metadata": {
    "ExecuteTime": {
     "end_time": "2023-06-29T03:17:00.347988Z",
     "start_time": "2023-06-29T03:16:59.954882Z"
    }
   },
   "outputs": [
    {
     "name": "stdout",
     "output_type": "stream",
     "text": [
      "['\"상처투성이인 한국인을 위하여 어제는 추기경님이 계셨고 오늘은 교황님께서 치유하시고 가셨습니다. \"\" 고난이 나를 찾을때 피하고 싶은 내마음은\"\"하시며 노래부르실때는 한 인간으로서 사제로서 격었을 그분의 고난에 눈물이 흐릅니다. 이땅에 이런어른 더안계시나요\"']\n",
      "['아', '잼', '1', '4', '4', '굿', '짱', '휴', '.', '1', '굿', '음', '?', '?', 'ㅎ', '굿', 'ㅋ', '굿', '즐']\n"
     ]
    }
   ],
   "source": [
    "max_review = []\n",
    "min_review = []\n",
    "min_cnt = 0\n",
    "max_cnt = 0\n",
    "for i in review:\n",
    "    if max(length) == len(i[0]):\n",
    "        max_cnt += 1\n",
    "        max_review.append(i[0])\n",
    "    elif min(length) == len(i[0]):\n",
    "        min_cnt += 1\n",
    "        min_review.append(i[0])\n",
    "print(max_review)\n",
    "print(min_review)"
   ]
  },
  {
   "cell_type": "code",
   "execution_count": 84,
   "id": "0f575c3d",
   "metadata": {
    "ExecuteTime": {
     "end_time": "2023-06-29T03:17:04.148162Z",
     "start_time": "2023-06-29T03:17:04.130400Z"
    }
   },
   "outputs": [
    {
     "name": "stdout",
     "output_type": "stream",
     "text": [
      "최대 길이 리뷰 : 144\n",
      "최소 길이 리뷰 : 1\n",
      "최대길이 리뷰 개수 : 1\n",
      "내용 : ['\"상처투성이인 한국인을 위하여 어제는 추기경님이 계셨고 오늘은 교황님께서 치유하시고 가셨습니다. \"\" 고난이 나를 찾을때 피하고 싶은 내마음은\"\"하시며 노래부르실때는 한 인간으로서 사제로서 격었을 그분의 고난에 눈물이 흐릅니다. 이땅에 이런어른 더안계시나요\"']\n",
      "최소길이 리뷰 개수 : 19\n",
      "내용 : ['아', '잼', '1', '4', '4', '굿', '짱', '휴', '.', '1', '굿', '음', '?', '?', 'ㅎ', '굿', 'ㅋ', '굿', '즐']\n"
     ]
    }
   ],
   "source": [
    "print(f'최대 길이 리뷰 : {max(length)}')\n",
    "print(f'최소 길이 리뷰 : {min(length)}')\n",
    "print(f'최대길이 리뷰 개수 : {max_cnt}')\n",
    "print(f'내용 : {max_review}')\n",
    "print(f'최소길이 리뷰 개수 : {min_cnt}')\n",
    "print(f'내용 : {min_review}')"
   ]
  },
  {
   "cell_type": "code",
   "execution_count": 86,
   "id": "b0c683ba",
   "metadata": {
    "ExecuteTime": {
     "end_time": "2023-06-29T03:35:20.663554Z",
     "start_time": "2023-06-29T03:35:18.831865Z"
    }
   },
   "outputs": [
    {
     "name": "stdout",
     "output_type": "stream",
     "text": [
      "검색할 데이터 입력 >> 많이\n",
      "'많이'가 포함된 리뷰는 58개 입니다.\n"
     ]
    }
   ],
   "source": [
    "data = input('검색할 데이터 입력 >> ')\n",
    "data_cnt = 0\n",
    "\n",
    "for i in review :\n",
    "    if data in i[0]:\n",
    "        data_cnt += 1\n",
    "\n",
    "print(f'\\'{data}\\'가 포함된 리뷰는 {data_cnt}개 입니다.')"
   ]
  },
  {
   "cell_type": "code",
   "execution_count": null,
   "id": "6e0730e8",
   "metadata": {},
   "outputs": [],
   "source": []
  },
  {
   "cell_type": "code",
   "execution_count": null,
   "id": "28c9cdce",
   "metadata": {},
   "outputs": [],
   "source": []
  },
  {
   "cell_type": "code",
   "execution_count": null,
   "id": "9de9d9a4",
   "metadata": {},
   "outputs": [],
   "source": []
  }
 ],
 "metadata": {
  "kernelspec": {
   "display_name": "Python 3 (ipykernel)",
   "language": "python",
   "name": "python3"
  },
  "language_info": {
   "codemirror_mode": {
    "name": "ipython",
    "version": 3
   },
   "file_extension": ".py",
   "mimetype": "text/x-python",
   "name": "python",
   "nbconvert_exporter": "python",
   "pygments_lexer": "ipython3",
   "version": "3.9.13"
  },
  "toc": {
   "base_numbering": 1,
   "nav_menu": {},
   "number_sections": true,
   "sideBar": true,
   "skip_h1_title": false,
   "title_cell": "Table of Contents",
   "title_sidebar": "Contents",
   "toc_cell": false,
   "toc_position": {
    "height": "calc(100% - 180px)",
    "left": "10px",
    "top": "150px",
    "width": "339.091px"
   },
   "toc_section_display": true,
   "toc_window_display": true
  },
  "varInspector": {
   "cols": {
    "lenName": 16,
    "lenType": 16,
    "lenVar": 40
   },
   "kernels_config": {
    "python": {
     "delete_cmd_postfix": "",
     "delete_cmd_prefix": "del ",
     "library": "var_list.py",
     "varRefreshCmd": "print(var_dic_list())"
    },
    "r": {
     "delete_cmd_postfix": ") ",
     "delete_cmd_prefix": "rm(",
     "library": "var_list.r",
     "varRefreshCmd": "cat(var_dic_list()) "
    }
   },
   "types_to_exclude": [
    "module",
    "function",
    "builtin_function_or_method",
    "instance",
    "_Feature"
   ],
   "window_display": false
  }
 },
 "nbformat": 4,
 "nbformat_minor": 5
}
