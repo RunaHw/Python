{
 "cells": [
  {
   "cell_type": "markdown",
   "id": "c39e7575",
   "metadata": {},
   "source": [
    "### 리스트(list)\n",
    "- 파이썬 자료구조 중 하나\n",
    "- 순서가 있고, 수정이 가능한 자료구조\n",
    "- 대괄호 ([])로 작성되고, 리스트 내부의 값은 콤마(,)로 구분\n",
    "- 하나의 리스트에는 다양한 자료형을 포함\n",
    "- 추가, 수정, 삭제가 가능"
   ]
  },
  {
   "cell_type": "markdown",
   "id": "88029ea0",
   "metadata": {},
   "source": [
    "#### 리스트 선언"
   ]
  },
  {
   "cell_type": "code",
   "execution_count": 6,
   "id": "a050cb0b",
   "metadata": {
    "ExecuteTime": {
     "end_time": "2023-06-26T07:23:16.576544Z",
     "start_time": "2023-06-26T07:23:16.561958Z"
    }
   },
   "outputs": [],
   "source": [
    "# 리스트명 = [요소1, 요소2, ...]\n",
    "a = [] # 빈 리스트 선언\n",
    "b = [1, 2, 3, 4, 5, ] # 숫자요소를 담은 리스트\n",
    "c = ['봉민혁', '김현중', '김다영'] # 문자열 요소를 담은 리스트\n",
    "d = [1, 2, '정희운', '인여진', '박필수'] #숫자, 문자열 요소를 담은 리스트\n",
    "e = [1, 2, '김유성', ['신지훈', '구동현']] # 리스트 내부에 리스트를 포함한 리스트\n",
    "\n",
    "# [] : 단일 리스트\n",
    "#[[]] : 이중 리스트"
   ]
  },
  {
   "cell_type": "code",
   "execution_count": 9,
   "id": "c41d0c5f",
   "metadata": {
    "ExecuteTime": {
     "end_time": "2023-06-26T07:23:42.562908Z",
     "start_time": "2023-06-26T07:23:42.553932Z"
    }
   },
   "outputs": [
    {
     "name": "stdout",
     "output_type": "stream",
     "text": [
      "[]\n",
      "[1, 2, 3, 4, 5]\n",
      "['봉민혁', '김현중', '김다영']\n",
      "[1, 2, '정희운', '인여진', '박필수']\n",
      "[1, 2, '김유성', ['신지훈', '구동현']]\n"
     ]
    }
   ],
   "source": [
    "print(a)\n",
    "print(b)\n",
    "print(c)\n",
    "print(d)\n",
    "print(e)\n"
   ]
  },
  {
   "cell_type": "code",
   "execution_count": 17,
   "id": "9a8d815a",
   "metadata": {
    "ExecuteTime": {
     "end_time": "2023-06-26T07:27:17.662211Z",
     "start_time": "2023-06-26T07:27:17.649221Z"
    }
   },
   "outputs": [
    {
     "name": "stdout",
     "output_type": "stream",
     "text": [
      "2\n",
      "9\n",
      "17\n"
     ]
    }
   ],
   "source": [
    "list1 = [2, 5, 7, 9, 10]\n",
    "print(list1[0])\n",
    "print(list1[3])\n",
    "print(list1[2] + list1[-1])"
   ]
  },
  {
   "cell_type": "code",
   "execution_count": 23,
   "id": "a16fbd56",
   "metadata": {
    "ExecuteTime": {
     "end_time": "2023-06-26T07:34:35.101246Z",
     "start_time": "2023-06-26T07:34:35.097256Z"
    }
   },
   "outputs": [
    {
     "name": "stdout",
     "output_type": "stream",
     "text": [
      "['a', 'b', 'c']\n",
      "b\n"
     ]
    }
   ],
   "source": [
    "list2 = [1, 2, 3, ['a', 'b', 'c']]\n",
    "temp = list2[-1]\n",
    "print(temp)\n",
    "print(list2[-1][1])"
   ]
  },
  {
   "cell_type": "code",
   "execution_count": null,
   "id": "0009c732",
   "metadata": {},
   "outputs": [],
   "source": []
  },
  {
   "cell_type": "code",
   "execution_count": null,
   "id": "d1b4a691",
   "metadata": {},
   "outputs": [],
   "source": []
  },
  {
   "cell_type": "code",
   "execution_count": null,
   "id": "bc9a5e6e",
   "metadata": {},
   "outputs": [],
   "source": []
  },
  {
   "cell_type": "code",
   "execution_count": null,
   "id": "a4ec5ce5",
   "metadata": {},
   "outputs": [],
   "source": []
  },
  {
   "cell_type": "code",
   "execution_count": null,
   "id": "9943fbfd",
   "metadata": {},
   "outputs": [],
   "source": []
  },
  {
   "cell_type": "code",
   "execution_count": null,
   "id": "2af3fabc",
   "metadata": {},
   "outputs": [],
   "source": []
  },
  {
   "cell_type": "code",
   "execution_count": null,
   "id": "fdbd43f8",
   "metadata": {},
   "outputs": [],
   "source": []
  },
  {
   "cell_type": "code",
   "execution_count": null,
   "id": "25374cd8",
   "metadata": {},
   "outputs": [],
   "source": []
  },
  {
   "cell_type": "code",
   "execution_count": null,
   "id": "1584d994",
   "metadata": {},
   "outputs": [],
   "source": []
  },
  {
   "cell_type": "code",
   "execution_count": null,
   "id": "a516a58d",
   "metadata": {},
   "outputs": [],
   "source": []
  },
  {
   "cell_type": "code",
   "execution_count": null,
   "id": "1600bd26",
   "metadata": {},
   "outputs": [],
   "source": []
  },
  {
   "cell_type": "code",
   "execution_count": null,
   "id": "db898dbd",
   "metadata": {},
   "outputs": [],
   "source": []
  },
  {
   "cell_type": "code",
   "execution_count": null,
   "id": "1aee1120",
   "metadata": {},
   "outputs": [],
   "source": []
  }
 ],
 "metadata": {
  "kernelspec": {
   "display_name": "Python 3 (ipykernel)",
   "language": "python",
   "name": "python3"
  },
  "language_info": {
   "codemirror_mode": {
    "name": "ipython",
    "version": 3
   },
   "file_extension": ".py",
   "mimetype": "text/x-python",
   "name": "python",
   "nbconvert_exporter": "python",
   "pygments_lexer": "ipython3",
   "version": "3.9.13"
  },
  "toc": {
   "base_numbering": 1,
   "nav_menu": {},
   "number_sections": true,
   "sideBar": true,
   "skip_h1_title": false,
   "title_cell": "Table of Contents",
   "title_sidebar": "Contents",
   "toc_cell": false,
   "toc_position": {},
   "toc_section_display": true,
   "toc_window_display": false
  },
  "varInspector": {
   "cols": {
    "lenName": 16,
    "lenType": 16,
    "lenVar": 40
   },
   "kernels_config": {
    "python": {
     "delete_cmd_postfix": "",
     "delete_cmd_prefix": "del ",
     "library": "var_list.py",
     "varRefreshCmd": "print(var_dic_list())"
    },
    "r": {
     "delete_cmd_postfix": ") ",
     "delete_cmd_prefix": "rm(",
     "library": "var_list.r",
     "varRefreshCmd": "cat(var_dic_list()) "
    }
   },
   "types_to_exclude": [
    "module",
    "function",
    "builtin_function_or_method",
    "instance",
    "_Feature"
   ],
   "window_display": false
  }
 },
 "nbformat": 4,
 "nbformat_minor": 5
}
