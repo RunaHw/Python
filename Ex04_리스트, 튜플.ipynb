{
 "cells": [
  {
   "cell_type": "markdown",
   "id": "c39e7575",
   "metadata": {},
   "source": [
    "### 리스트(list)\n",
    "- 파이썬 자료구조 중 하나\n",
    "- 순서가 있고, 수정이 가능한 자료구조\n",
    "- 대괄호 ([])로 작성되고, 리스트 내부의 값은 콤마(,)로 구분\n",
    "- 하나의 리스트에는 다양한 자료형을 포함\n",
    "- 추가, 수정, 삭제가 가능"
   ]
  },
  {
   "cell_type": "markdown",
   "id": "88029ea0",
   "metadata": {},
   "source": [
    "#### 리스트 선언"
   ]
  },
  {
   "cell_type": "code",
   "execution_count": 1,
   "id": "a050cb0b",
   "metadata": {
    "ExecuteTime": {
     "end_time": "2023-06-27T07:21:49.442375Z",
     "start_time": "2023-06-27T07:21:49.429409Z"
    }
   },
   "outputs": [],
   "source": [
    "# 리스트명 = [요소1, 요소2, ...]\n",
    "a = [] # 빈 리스트 선언\n",
    "b = [1, 2, 3, 4, 5, ] # 숫자요소를 담은 리스트\n",
    "c = ['봉민혁', '김현중', '김다영'] # 문자열 요소를 담은 리스트\n",
    "d = [1, 2, '정희운', '인여진', '박필수'] #숫자, 문자열 요소를 담은 리스트\n",
    "e = [1, 2, '김유성', ['신지훈', '구동현']] # 리스트 내부에 리스트를 포함한 리스트\n",
    "\n",
    "# [] : 단일 리스트\n",
    "#[[]] : 이중 리스트"
   ]
  },
  {
   "cell_type": "code",
   "execution_count": 2,
   "id": "c41d0c5f",
   "metadata": {
    "ExecuteTime": {
     "end_time": "2023-06-27T07:21:49.457353Z",
     "start_time": "2023-06-27T07:21:49.443372Z"
    }
   },
   "outputs": [
    {
     "name": "stdout",
     "output_type": "stream",
     "text": [
      "[]\n",
      "[1, 2, 3, 4, 5]\n",
      "['봉민혁', '김현중', '김다영']\n",
      "[1, 2, '정희운', '인여진', '박필수']\n",
      "[1, 2, '김유성', ['신지훈', '구동현']]\n"
     ]
    }
   ],
   "source": [
    "print(a)\n",
    "print(b)\n",
    "print(c)\n",
    "print(d)\n",
    "print(e)\n"
   ]
  },
  {
   "cell_type": "markdown",
   "id": "496c51f1",
   "metadata": {},
   "source": [
    "#### 리스트 인덱싱"
   ]
  },
  {
   "cell_type": "code",
   "execution_count": 3,
   "id": "9a8d815a",
   "metadata": {
    "ExecuteTime": {
     "end_time": "2023-06-27T07:21:49.472319Z",
     "start_time": "2023-06-27T07:21:49.459329Z"
    }
   },
   "outputs": [
    {
     "name": "stdout",
     "output_type": "stream",
     "text": [
      "2\n",
      "9\n",
      "17\n"
     ]
    }
   ],
   "source": [
    "list1 = [2, 5, 7, 9, 10]\n",
    "print(list1[0])\n",
    "print(list1[3])\n",
    "print(list1[2] + list1[-1])"
   ]
  },
  {
   "cell_type": "code",
   "execution_count": 4,
   "id": "a16fbd56",
   "metadata": {
    "ExecuteTime": {
     "end_time": "2023-06-27T07:21:49.487275Z",
     "start_time": "2023-06-27T07:21:49.473293Z"
    }
   },
   "outputs": [
    {
     "name": "stdout",
     "output_type": "stream",
     "text": [
      "['a', 'b', 'c']\n",
      "b\n"
     ]
    }
   ],
   "source": [
    "list2 = [1, 2, 3, ['a', 'b', 'c']]\n",
    "temp = list2[-1]\n",
    "print(temp)\n",
    "print(list2[-1][1])"
   ]
  },
  {
   "cell_type": "code",
   "execution_count": 5,
   "id": "0009c732",
   "metadata": {
    "ExecuteTime": {
     "end_time": "2023-06-27T07:21:49.502214Z",
     "start_time": "2023-06-27T07:21:49.488252Z"
    }
   },
   "outputs": [
    {
     "data": {
      "text/plain": [
       "4"
      ]
     },
     "execution_count": 5,
     "metadata": {},
     "output_type": "execute_result"
    }
   ],
   "source": [
    "#len() : 길이를 반환하는 함수\n",
    "len(list2)"
   ]
  },
  {
   "cell_type": "markdown",
   "id": "5db114d3",
   "metadata": {},
   "source": [
    "#### 리스트 슬라이싱"
   ]
  },
  {
   "cell_type": "code",
   "execution_count": 6,
   "id": "a4ec5ce5",
   "metadata": {
    "ExecuteTime": {
     "end_time": "2023-06-27T07:21:49.517174Z",
     "start_time": "2023-06-27T07:21:49.503213Z"
    }
   },
   "outputs": [
    {
     "name": "stdout",
     "output_type": "stream",
     "text": [
      "['이우석', '김동영', '장재욱']\n"
     ]
    }
   ],
   "source": [
    "# 리스트명 [시작인덱스 : 끝인덱스]\n",
    "# 인덱스범위 : 시작인덱스 < = 인덱스번호 < 끝인덱스\n",
    "list3 = ['이우석', '김동영', '장재욱', '강진구', '신지훈']\n",
    "# '이우석' ~ '장재욱' 데이터 접근 출력\n",
    "print(list3[:3])"
   ]
  },
  {
   "cell_type": "code",
   "execution_count": 7,
   "id": "9943fbfd",
   "metadata": {
    "ExecuteTime": {
     "end_time": "2023-06-27T07:21:49.532016Z",
     "start_time": "2023-06-27T07:21:49.518171Z"
    }
   },
   "outputs": [
    {
     "name": "stdout",
     "output_type": "stream",
     "text": [
      "['김동영', '장재욱', '강진구', '신지훈']\n"
     ]
    }
   ],
   "source": [
    "# 김동영~신지훈 데이터 접근해보기\n",
    "print(list3[1:list3.index('신지훈')+1])\n"
   ]
  },
  {
   "cell_type": "code",
   "execution_count": 8,
   "id": "2af3fabc",
   "metadata": {
    "ExecuteTime": {
     "end_time": "2023-06-27T07:21:49.547169Z",
     "start_time": "2023-06-27T07:21:49.532989Z"
    }
   },
   "outputs": [
    {
     "name": "stdout",
     "output_type": "stream",
     "text": [
      "['이우석', '장재욱', '신지훈']\n",
      "['김동영', '신지훈']\n"
     ]
    }
   ],
   "source": [
    "# 인덱스 번호 0부터 끝까지 2개씩 띄어서 가져오기\n",
    "print(list3[::2]) # [시작인덱스 : 끝인덱스 : 증감값]\n",
    "# 인덱스 번호 1부터 끝까지 3씩 띄어서 가져오기\n",
    "print(list3[1::3])"
   ]
  },
  {
   "cell_type": "code",
   "execution_count": 9,
   "id": "fdbd43f8",
   "metadata": {
    "ExecuteTime": {
     "end_time": "2023-06-27T07:21:49.578143Z",
     "start_time": "2023-06-27T07:21:49.558145Z"
    }
   },
   "outputs": [
    {
     "data": {
      "text/plain": [
       "[['김준우', 29, 'B'],\n",
       " ['정희운', 30, 'B'],\n",
       " ['봉민혁', 24, 'A'],\n",
       " ['김유성', 29, 'B'],\n",
       " ['강진구', 26, 'O']]"
      ]
     },
     "execution_count": 9,
     "metadata": {},
     "output_type": "execute_result"
    }
   ],
   "source": [
    "# 이중리스트를 만들고 데이터 접근해보기\n",
    "# 이름, 나이, 혈액형 정보기반의 이중 리스트\n",
    "list4 = [['김준우', 29, 'B'], ['정희운', 30, 'B'], ['봉민혁', 24, 'A'], ['김유성', 29, 'B'], ['강진구', 26, 'O']]\n",
    "list4"
   ]
  },
  {
   "cell_type": "code",
   "execution_count": 10,
   "id": "25374cd8",
   "metadata": {
    "ExecuteTime": {
     "end_time": "2023-06-27T07:21:49.593127Z",
     "start_time": "2023-06-27T07:21:49.581155Z"
    }
   },
   "outputs": [
    {
     "name": "stdout",
     "output_type": "stream",
     "text": [
      "['봉민혁', 24, 'A']\n",
      "봉민혁씨의 나이는 24이고, 혈액은 A형 입니다\n"
     ]
    }
   ],
   "source": [
    "# 봉민혁의 나이, 혈액형 접근해서 출력해보기\n",
    "print(list4[2][:])\n",
    "print(f'{list4[2][0]}씨의 나이는 {list4[2][1]}이고, 혈액은 {list4[2][2]}형 입니다')\n",
    "\n",
    "\n"
   ]
  },
  {
   "cell_type": "code",
   "execution_count": 11,
   "id": "6577e3df",
   "metadata": {
    "ExecuteTime": {
     "end_time": "2023-06-27T07:21:49.608085Z",
     "start_time": "2023-06-27T07:21:49.595096Z"
    }
   },
   "outputs": [
    {
     "name": "stdout",
     "output_type": "stream",
     "text": [
      "강진구씨의 나이는 26살 입니다.\n",
      "김유성씨의 나이는 29살 입니다.\n"
     ]
    }
   ],
   "source": [
    "print(f'{list4[-1][0]}씨의 나이는 {list4[-1][1]}살 입니다.')\n",
    "print(f'{list4[-2][0]}씨의 나이는 {list4[-2][1]}살 입니다.')"
   ]
  },
  {
   "cell_type": "code",
   "execution_count": 12,
   "id": "9550781e",
   "metadata": {
    "ExecuteTime": {
     "end_time": "2023-06-27T07:21:49.623150Z",
     "start_time": "2023-06-27T07:21:49.609086Z"
    }
   },
   "outputs": [
    {
     "name": "stdout",
     "output_type": "stream",
     "text": [
      "강진구씨의 나이는 26살 입니다.\n",
      "김유성씨의 나이는 29살 입니다.\n"
     ]
    }
   ],
   "source": [
    "a = list4[-1]\n",
    "b = list4[-2]\n",
    "print(f'{a[0]}씨의 나이는 {a[1]}살 입니다.')\n",
    "print(f'{b[0]}씨의 나이는 {b[1]}살 입니다.')"
   ]
  },
  {
   "cell_type": "markdown",
   "id": "617fe005",
   "metadata": {},
   "source": [
    "#### 리스트 반복 : 연산자 활용"
   ]
  },
  {
   "cell_type": "code",
   "execution_count": 13,
   "id": "1584d994",
   "metadata": {
    "ExecuteTime": {
     "end_time": "2023-06-27T07:21:49.638411Z",
     "start_time": "2023-06-27T07:21:49.624123Z"
    }
   },
   "outputs": [
    {
     "data": {
      "text/plain": [
       "[1, 2, 3, 4, 1, 2, 3, 4, 1, 2, 3, 4]"
      ]
     },
     "execution_count": 13,
     "metadata": {},
     "output_type": "execute_result"
    }
   ],
   "source": [
    "# 리스트의 곱하기 : 리스트의 내용이 곱해지는 수 만큼 반복\n",
    "list5 = [1, 2, 3, 4]\n",
    "list5 * 3"
   ]
  },
  {
   "cell_type": "code",
   "execution_count": 14,
   "id": "a516a58d",
   "metadata": {
    "ExecuteTime": {
     "end_time": "2023-06-27T07:21:49.653387Z",
     "start_time": "2023-06-27T07:21:49.642399Z"
    }
   },
   "outputs": [
    {
     "data": {
      "text/plain": [
       "[1, 2, 3, 4, 5, 6, 7, 8]"
      ]
     },
     "execution_count": 14,
     "metadata": {},
     "output_type": "execute_result"
    }
   ],
   "source": [
    "# 리스트의 더하기 : 앞 뒤의 리스트가 연결됨\n",
    "list6 = [5, 6, 7, 8]\n",
    "list5 + list6"
   ]
  },
  {
   "cell_type": "markdown",
   "id": "4a36ee17",
   "metadata": {},
   "source": [
    "#### 리스트 관련 함수"
   ]
  },
  {
   "cell_type": "markdown",
   "id": "edd222e8",
   "metadata": {},
   "source": [
    "##### 리스트 값 추가 1 : append()\n",
    "\n",
    "- 리스트 값 하나 추가"
   ]
  },
  {
   "cell_type": "code",
   "execution_count": 15,
   "id": "1600bd26",
   "metadata": {
    "ExecuteTime": {
     "end_time": "2023-06-27T07:21:49.668448Z",
     "start_time": "2023-06-27T07:21:49.655346Z"
    }
   },
   "outputs": [
    {
     "name": "stdout",
     "output_type": "stream",
     "text": [
      "['사과', '멜론', '오렌지']\n"
     ]
    }
   ],
   "source": [
    "# 각 데이터를 인덱싱하여 변수에 저장\n",
    "fruits = ['사과', '샤인머스캣', ['귤', '멜론'], '오렌지']\n",
    "\n",
    "apple = fruits[0]\n",
    "melon = fruits[-2][-1]\n",
    "orange = fruits[-1]\n",
    "# 가져온 데이터를 기준으로 새로운 리스트를 만들어보기\n",
    "\n",
    "choice_list = [] # 빈 리스트 생성\n",
    "choice_list.append(apple)\n",
    "choice_list.append(melon)\n",
    "choice_list.append(orange)\n",
    "\n",
    "print(choice_list)"
   ]
  },
  {
   "cell_type": "code",
   "execution_count": 16,
   "id": "895f684d",
   "metadata": {
    "ExecuteTime": {
     "end_time": "2023-06-27T07:21:49.683397Z",
     "start_time": "2023-06-27T07:21:49.673403Z"
    }
   },
   "outputs": [
    {
     "data": {
      "text/plain": [
       "list"
      ]
     },
     "execution_count": 16,
     "metadata": {},
     "output_type": "execute_result"
    }
   ],
   "source": [
    "type(choice_list)"
   ]
  },
  {
   "cell_type": "markdown",
   "id": "7355d7b7",
   "metadata": {},
   "source": [
    "##### 리스트 값 추가 2 : extend()\n",
    "- 여러 요소를 한꺼번에 추가\n",
    "- 추가하는 값은 리스트 형태로 묶어서 넣어줘야 함."
   ]
  },
  {
   "cell_type": "code",
   "execution_count": 17,
   "id": "6cf64974",
   "metadata": {
    "ExecuteTime": {
     "end_time": "2023-06-27T07:21:49.698123Z",
     "start_time": "2023-06-27T07:21:49.685371Z"
    }
   },
   "outputs": [
    {
     "data": {
      "text/plain": [
       "['사과', '멜론', '오렌지']"
      ]
     },
     "execution_count": 17,
     "metadata": {},
     "output_type": "execute_result"
    }
   ],
   "source": [
    "choice_list2 = [] # 빈 리스트 생성\n",
    "choice_list2.extend([apple, melon, orange])\n",
    "choice_list2"
   ]
  },
  {
   "cell_type": "markdown",
   "id": "5779532c",
   "metadata": {},
   "source": [
    "##### 리스트 값 추가 3 : insert(인덱스 위치, 값)\n",
    "- 원하는 인덱스 위치에 값 추가\n"
   ]
  },
  {
   "cell_type": "code",
   "execution_count": 18,
   "id": "b472d195",
   "metadata": {
    "ExecuteTime": {
     "end_time": "2023-06-27T07:21:49.713319Z",
     "start_time": "2023-06-27T07:21:49.701115Z"
    }
   },
   "outputs": [
    {
     "data": {
      "text/plain": [
       "['사과', '멜론', '오렌지']"
      ]
     },
     "execution_count": 18,
     "metadata": {},
     "output_type": "execute_result"
    }
   ],
   "source": [
    "choice_list"
   ]
  },
  {
   "cell_type": "code",
   "execution_count": 19,
   "id": "47f72b1f",
   "metadata": {
    "ExecuteTime": {
     "end_time": "2023-06-27T07:21:49.728348Z",
     "start_time": "2023-06-27T07:21:49.714316Z"
    }
   },
   "outputs": [
    {
     "name": "stdout",
     "output_type": "stream",
     "text": [
      "['사과', '수박', '멜론', '오렌지']\n"
     ]
    }
   ],
   "source": [
    "# 1번 인덱스에 '수박' 추가하기\n",
    "choice_list.insert(1, '수박')\n",
    "\n",
    "print(choice_list)"
   ]
  },
  {
   "cell_type": "code",
   "execution_count": 20,
   "id": "abc34e7c",
   "metadata": {
    "ExecuteTime": {
     "end_time": "2023-06-27T07:21:49.743523Z",
     "start_time": "2023-06-27T07:21:49.730344Z"
    }
   },
   "outputs": [
    {
     "name": "stdout",
     "output_type": "stream",
     "text": [
      "['사과', '수박', '망고', '멜론', '오렌지']\n"
     ]
    }
   ],
   "source": [
    "# 2번 인덱스에 짝이 좋아하는 과일 추가하고 단톡방에 자랑하기\n",
    "choice_list.insert(2, '망고')\n",
    "\n",
    "print(choice_list)"
   ]
  },
  {
   "cell_type": "code",
   "execution_count": 21,
   "id": "c0ffd5a2",
   "metadata": {
    "ExecuteTime": {
     "end_time": "2023-06-27T07:21:54.027913Z",
     "start_time": "2023-06-27T07:21:49.745519Z"
    }
   },
   "outputs": [
    {
     "name": "stdout",
     "output_type": "stream",
     "text": [
      "추가 위치 번호 >> 3\n",
      "노래 제목 >> s\n",
      "가수 >> a\n"
     ]
    }
   ],
   "source": [
    "music_list = [['사건의지평선', '윤하'], ['Nxde', '(여자)아이들'], ['Hype boy', '뉴진스']]\n",
    "\n",
    "loc = int(input('추가 위치 번호 >> '))\n",
    "song = input('노래 제목 >> ')\n",
    "singer = input('가수 >> ')\n",
    "\n",
    "music_list.insert(loc-1, [song, singer])\n"
   ]
  },
  {
   "cell_type": "code",
   "execution_count": 22,
   "id": "d2fcc7aa",
   "metadata": {
    "ExecuteTime": {
     "end_time": "2023-06-27T07:21:54.043426Z",
     "start_time": "2023-06-27T07:21:54.028947Z"
    }
   },
   "outputs": [
    {
     "data": {
      "text/plain": [
       "[['사건의지평선', '윤하'], ['Nxde', '(여자)아이들'], ['s', 'a'], ['Hype boy', '뉴진스']]"
      ]
     },
     "execution_count": 22,
     "metadata": {},
     "output_type": "execute_result"
    }
   ],
   "source": [
    "music_list"
   ]
  },
  {
   "cell_type": "markdown",
   "id": "4b0d7dd2",
   "metadata": {},
   "source": [
    "##### 리스트 값 수정하기\n",
    "- 리스트의 요소 갯수(길이)의 변경없이 값을 수정하고자 할 경우\n",
    "    - 데이터의 갯수를 확인하는 과정이 필요!!!!"
   ]
  },
  {
   "cell_type": "code",
   "execution_count": 23,
   "id": "af164c3d",
   "metadata": {
    "ExecuteTime": {
     "end_time": "2023-06-27T07:21:54.058835Z",
     "start_time": "2023-06-27T07:21:54.044424Z"
    }
   },
   "outputs": [
    {
     "data": {
      "text/plain": [
       "['사과', '수박', '망고', '멜론', '오렌지']"
      ]
     },
     "execution_count": 23,
     "metadata": {},
     "output_type": "execute_result"
    }
   ],
   "source": [
    "choice_list"
   ]
  },
  {
   "cell_type": "code",
   "execution_count": 24,
   "id": "605a86bf",
   "metadata": {
    "ExecuteTime": {
     "end_time": "2023-06-27T07:21:54.073910Z",
     "start_time": "2023-06-27T07:21:54.059845Z"
    }
   },
   "outputs": [
    {
     "name": "stdout",
     "output_type": "stream",
     "text": [
      "수정 전 :  ['사과', '수박', '망고', '멜론', '오렌지']\n",
      "수정 후 :  ['배', '수박', '망고', '멜론', '오렌지']\n"
     ]
    }
   ],
   "source": [
    "print('수정 전 : ', choice_list)\n",
    "choice_list[0] = '배'\n",
    "print('수정 후 : ', choice_list)"
   ]
  },
  {
   "cell_type": "code",
   "execution_count": 28,
   "id": "88f44ca6",
   "metadata": {
    "ExecuteTime": {
     "end_time": "2023-06-27T07:22:17.337848Z",
     "start_time": "2023-06-27T07:22:17.329900Z"
    }
   },
   "outputs": [],
   "source": [
    "# 0, 1의 데이터를 슬라이싱으로 접근하여 '딸기'라는 값으로 할당\n",
    "choice_list[:2] = '파인애플'"
   ]
  },
  {
   "cell_type": "code",
   "execution_count": 29,
   "id": "a203cca9",
   "metadata": {
    "ExecuteTime": {
     "end_time": "2023-06-27T07:22:19.035625Z",
     "start_time": "2023-06-27T07:22:19.023658Z"
    }
   },
   "outputs": [
    {
     "name": "stdout",
     "output_type": "stream",
     "text": [
      "수정 후 :  ['파', '인', '애', '플', '망고', '멜론', '오렌지']\n"
     ]
    }
   ],
   "source": [
    "print('수정 후 : ', choice_list)"
   ]
  },
  {
   "cell_type": "code",
   "execution_count": 27,
   "id": "e6147e9c",
   "metadata": {
    "ExecuteTime": {
     "end_time": "2023-06-27T07:21:54.118821Z",
     "start_time": "2023-06-27T07:21:54.108474Z"
    }
   },
   "outputs": [],
   "source": [
    "# 0, 1의 데이터를 슬라이싱으로 접근하여 '감'이라는 1음절의 값으로 할당\n",
    "# choice_list[:2] = '감'\n",
    "# print('수정 후 : ', choice_list)"
   ]
  },
  {
   "cell_type": "code",
   "execution_count": 31,
   "id": "89d30ea6",
   "metadata": {
    "ExecuteTime": {
     "end_time": "2023-06-27T07:24:42.446948Z",
     "start_time": "2023-06-27T07:24:42.438970Z"
    }
   },
   "outputs": [
    {
     "data": {
      "text/plain": [
       "4"
      ]
     },
     "execution_count": 31,
     "metadata": {},
     "output_type": "execute_result"
    }
   ],
   "source": [
    "list6 =[5, 6, 7, 8]\n",
    "len(list6)"
   ]
  },
  {
   "cell_type": "code",
   "execution_count": 33,
   "id": "ba7a3e3c",
   "metadata": {
    "ExecuteTime": {
     "end_time": "2023-06-27T07:24:57.197040Z",
     "start_time": "2023-06-27T07:24:57.183078Z"
    }
   },
   "outputs": [],
   "source": [
    "list6[:2] = [1] # []로 묶은 데이터 1개만 대입해서 리스트의 길이가 변경됨\n",
    "list6"
   ]
  },
  {
   "cell_type": "code",
   "execution_count": 35,
   "id": "f883a6b5",
   "metadata": {
    "ExecuteTime": {
     "end_time": "2023-06-27T07:26:00.280844Z",
     "start_time": "2023-06-27T07:26:00.263915Z"
    }
   },
   "outputs": [
    {
     "data": {
      "text/plain": [
       "3"
      ]
     },
     "execution_count": 35,
     "metadata": {},
     "output_type": "execute_result"
    }
   ],
   "source": [
    "len(list6)"
   ]
  },
  {
   "cell_type": "markdown",
   "id": "465b6c3b",
   "metadata": {},
   "source": [
    "##### 리스트 값 삭제\n",
    "- del 키워드 : 인덱스 번호를 이용해서 삭제\n",
    "- remove() 함수 : 값을 이용해서 삭제"
   ]
  },
  {
   "cell_type": "code",
   "execution_count": 36,
   "id": "2da737cf",
   "metadata": {
    "ExecuteTime": {
     "end_time": "2023-06-27T07:33:47.103522Z",
     "start_time": "2023-06-27T07:33:47.087199Z"
    }
   },
   "outputs": [],
   "source": [
    "list7 = [0, 1, 2, 3, 4, 5, 6, 7]\n",
    "# list7에서 숫자 4삭제\n",
    "del list7[4]\n"
   ]
  },
  {
   "cell_type": "code",
   "execution_count": 37,
   "id": "d284d06f",
   "metadata": {
    "ExecuteTime": {
     "end_time": "2023-06-27T07:33:48.303092Z",
     "start_time": "2023-06-27T07:33:48.294116Z"
    }
   },
   "outputs": [
    {
     "data": {
      "text/plain": [
       "[0, 1, 2, 3, 5, 6, 7]"
      ]
     },
     "execution_count": 37,
     "metadata": {},
     "output_type": "execute_result"
    }
   ],
   "source": [
    "list7"
   ]
  },
  {
   "cell_type": "code",
   "execution_count": 38,
   "id": "28fae0fb",
   "metadata": {
    "ExecuteTime": {
     "end_time": "2023-06-27T07:35:45.085882Z",
     "start_time": "2023-06-27T07:35:45.069924Z"
    }
   },
   "outputs": [],
   "source": [
    "#  1~3까지 숫자를 삭제\n",
    "# 여러개의 데이터에 접근해서 삭제할때 유용한 기능 --> 슬라이싱\n",
    "del list7[1:4]\n"
   ]
  },
  {
   "cell_type": "code",
   "execution_count": 39,
   "id": "434806da",
   "metadata": {
    "ExecuteTime": {
     "end_time": "2023-06-27T07:35:48.730404Z",
     "start_time": "2023-06-27T07:35:48.717455Z"
    }
   },
   "outputs": [
    {
     "data": {
      "text/plain": [
       "[0, 5, 6, 7]"
      ]
     },
     "execution_count": 39,
     "metadata": {},
     "output_type": "execute_result"
    }
   ],
   "source": [
    "list7"
   ]
  },
  {
   "cell_type": "code",
   "execution_count": 41,
   "id": "f4ff8223",
   "metadata": {
    "ExecuteTime": {
     "end_time": "2023-06-27T07:36:35.608760Z",
     "start_time": "2023-06-27T07:36:35.605749Z"
    }
   },
   "outputs": [],
   "source": [
    "# remove() 함수\n",
    "list7 = [0, 1, 2, 3, 4, 5, 6, 7]\n",
    "# 3 삭제\n",
    "list7.remove(3)"
   ]
  },
  {
   "cell_type": "code",
   "execution_count": 42,
   "id": "26086ba8",
   "metadata": {
    "ExecuteTime": {
     "end_time": "2023-06-27T07:36:37.502872Z",
     "start_time": "2023-06-27T07:36:37.485913Z"
    }
   },
   "outputs": [
    {
     "data": {
      "text/plain": [
       "[0, 1, 2, 4, 5, 6, 7]"
      ]
     },
     "execution_count": 42,
     "metadata": {},
     "output_type": "execute_result"
    }
   ],
   "source": [
    "list7"
   ]
  },
  {
   "cell_type": "markdown",
   "id": "9bfd0668",
   "metadata": {},
   "source": [
    "##### 리스트 정렬 : sort()\n",
    "- sort() 기본값 : 오름차순 정렬"
   ]
  },
  {
   "cell_type": "code",
   "execution_count": 43,
   "id": "38eac18f",
   "metadata": {
    "ExecuteTime": {
     "end_time": "2023-06-27T07:41:38.373281Z",
     "start_time": "2023-06-27T07:41:38.358351Z"
    }
   },
   "outputs": [
    {
     "data": {
      "text/plain": [
       "[9, 77, 13, 51, 2, 84, 21, 3]"
      ]
     },
     "execution_count": 43,
     "metadata": {},
     "output_type": "execute_result"
    }
   ],
   "source": [
    "list8 = [9, 77, 13, 51, 2, 84, 21, 3]\n",
    "list8"
   ]
  },
  {
   "cell_type": "code",
   "execution_count": 44,
   "id": "2bb7c6ef",
   "metadata": {
    "ExecuteTime": {
     "end_time": "2023-06-27T07:41:48.384378Z",
     "start_time": "2023-06-27T07:41:48.374398Z"
    }
   },
   "outputs": [
    {
     "data": {
      "text/plain": [
       "[2, 3, 9, 13, 21, 51, 77, 84]"
      ]
     },
     "execution_count": 44,
     "metadata": {},
     "output_type": "execute_result"
    }
   ],
   "source": [
    "list8.sort()\n",
    "list8"
   ]
  },
  {
   "cell_type": "code",
   "execution_count": 45,
   "id": "825ce424",
   "metadata": {
    "ExecuteTime": {
     "end_time": "2023-06-27T07:43:09.438549Z",
     "start_time": "2023-06-27T07:43:09.429381Z"
    }
   },
   "outputs": [
    {
     "data": {
      "text/plain": [
       "[84, 77, 51, 21, 13, 9, 3, 2]"
      ]
     },
     "execution_count": 45,
     "metadata": {},
     "output_type": "execute_result"
    }
   ],
   "source": [
    "# 리스트에 있는 값을 역순으로 뒤집는 함수 : reverse() 함수\n",
    "list8.reverse()\n",
    "list8"
   ]
  },
  {
   "cell_type": "code",
   "execution_count": 46,
   "id": "5f635b33",
   "metadata": {
    "ExecuteTime": {
     "end_time": "2023-06-27T07:44:17.194103Z",
     "start_time": "2023-06-27T07:44:17.190124Z"
    }
   },
   "outputs": [
    {
     "data": {
      "text/plain": [
       "[2, 3, 9, 13, 21, 51, 77, 84]"
      ]
     },
     "execution_count": 46,
     "metadata": {},
     "output_type": "execute_result"
    }
   ],
   "source": [
    "# 오름차순 정렬하기\n",
    "list8[::-1]\n"
   ]
  },
  {
   "cell_type": "markdown",
   "id": "360d8d0f",
   "metadata": {},
   "source": [
    "##### 리스트 값 위치 반환 : index('찾을 요소')"
   ]
  },
  {
   "cell_type": "code",
   "execution_count": 47,
   "id": "d313fac0",
   "metadata": {
    "ExecuteTime": {
     "end_time": "2023-06-27T07:49:55.379545Z",
     "start_time": "2023-06-27T07:49:55.373561Z"
    }
   },
   "outputs": [
    {
     "data": {
      "text/plain": [
       "[84, 77, 51, 21, 13, 9, 3, 2]"
      ]
     },
     "execution_count": 47,
     "metadata": {},
     "output_type": "execute_result"
    }
   ],
   "source": [
    "list8"
   ]
  },
  {
   "cell_type": "code",
   "execution_count": 48,
   "id": "bb90d3f2",
   "metadata": {
    "ExecuteTime": {
     "end_time": "2023-06-27T07:50:10.525448Z",
     "start_time": "2023-06-27T07:50:10.517469Z"
    }
   },
   "outputs": [
    {
     "data": {
      "text/plain": [
       "2"
      ]
     },
     "execution_count": 48,
     "metadata": {},
     "output_type": "execute_result"
    }
   ],
   "source": [
    "# 51의 인덱스 번호를 알려줘\n",
    "list8.index(51)"
   ]
  },
  {
   "cell_type": "code",
   "execution_count": 55,
   "id": "d3123afd",
   "metadata": {
    "ExecuteTime": {
     "end_time": "2023-06-27T07:51:36.976011Z",
     "start_time": "2023-06-27T07:51:36.965067Z"
    }
   },
   "outputs": [
    {
     "data": {
      "text/plain": [
       "5"
      ]
     },
     "execution_count": 55,
     "metadata": {},
     "output_type": "execute_result"
    }
   ],
   "source": [
    "test_str = '빅데이터 8차반입니다~~!.'\n",
    "# '8'의 인덱스 번호 찾기\n",
    "test_str.index('8')"
   ]
  },
  {
   "cell_type": "markdown",
   "id": "cd9e1a83",
   "metadata": {},
   "source": [
    "##### 마지막 값을 반환하고 리스트에서 제거하는 함수 : pop()"
   ]
  },
  {
   "cell_type": "code",
   "execution_count": 56,
   "id": "692b1710",
   "metadata": {
    "ExecuteTime": {
     "end_time": "2023-06-27T07:52:58.217185Z",
     "start_time": "2023-06-27T07:52:58.205210Z"
    }
   },
   "outputs": [
    {
     "data": {
      "text/plain": [
       "'e'"
      ]
     },
     "execution_count": 56,
     "metadata": {},
     "output_type": "execute_result"
    }
   ],
   "source": [
    "list9 = ['a', 'b', 'c', 'd', 'e']\n",
    "list9.pop()"
   ]
  },
  {
   "cell_type": "markdown",
   "id": "aa6b30a4",
   "metadata": {},
   "source": [
    "### 튜플(tuple)\n",
    "- 파이썬의 자료구조 형태 중 하나\n",
    "- 순서가 있는 집합(인덱싱, 슬라이싱 가능)\n",
    "- 소괄호 ()로 작성되어지고, 튜플 내부의 값은 콤마(,)로 구분\n",
    "- 하나의 튜플에는 다양한 자료형을 포함\n",
    "- 데이터의 추가, 수정, 삭제가 불가능\n",
    "- 언제 사용할까? --> 프로그램이 실행되는 동안 요솟값이 항상 변하지 않기를 바란다거나 값이 바뀔까 걱정하고 싶지 않을 경우 사용"
   ]
  },
  {
   "cell_type": "code",
   "execution_count": 65,
   "id": "acca5bc0",
   "metadata": {
    "ExecuteTime": {
     "end_time": "2023-06-27T08:27:33.584051Z",
     "start_time": "2023-06-27T08:27:31.608337Z"
    }
   },
   "outputs": [
    {
     "name": "stdout",
     "output_type": "stream",
     "text": [
      "*********************************************************************************************\n",
      "검색할 문자를 입력하세요 >> 배\n",
      "배는 리스트에 들어있지 않습니다.\n",
      "*********************************************************************************************\n"
     ]
    }
   ],
   "source": [
    "list11 = ['딸기', '바나나', '복숭아', '체리', '사과']\n",
    "\n",
    "print('*********************************************************************************************')\n",
    "search = input('검색할 문자를 입력하세요 >> ')\n",
    "if search in list11 :\n",
    "    print(f'{search}는 리스트 {list11.index(search)}번째 인덱스에 들어있습니다.')\n",
    "else :\n",
    "    print(f'{search}는 리스트에 들어있지 않습니다.')\n",
    "\n",
    "print('*********************************************************************************************')"
   ]
  },
  {
   "cell_type": "markdown",
   "id": "29b0ce7f",
   "metadata": {},
   "source": [
    "### 문자열 개수 반환하는 함수  count()"
   ]
  },
  {
   "cell_type": "code",
   "execution_count": 69,
   "id": "86a0c434",
   "metadata": {
    "ExecuteTime": {
     "end_time": "2023-06-27T08:37:08.899510Z",
     "start_time": "2023-06-27T08:37:08.888564Z"
    }
   },
   "outputs": [
    {
     "data": {
      "text/plain": [
       "5"
      ]
     },
     "execution_count": 69,
     "metadata": {},
     "output_type": "execute_result"
    }
   ],
   "source": [
    "a = 'testtesttesttesttead'\n",
    "a.count('e')"
   ]
  },
  {
   "cell_type": "code",
   "execution_count": 88,
   "id": "62574073",
   "metadata": {
    "ExecuteTime": {
     "end_time": "2023-06-27T08:46:08.813374Z",
     "start_time": "2023-06-27T08:46:07.279360Z"
    }
   },
   "outputs": [
    {
     "name": "stdout",
     "output_type": "stream",
     "text": [
      "검색할 문자를 입력하세요 >> 1\n",
      "'1'는 문자열에 들어있지 않습니다.\n"
     ]
    }
   ],
   "source": [
    "s= 'Hi, My name is Junhee'\n",
    "\n",
    "search = input('검색할 문자를 입력하세요 >> ')\n",
    "\n",
    "if search in s :\n",
    "    print(f\"'{search}'는 {s.count(search)}번 들어 있습니다.\")\n",
    "else :\n",
    "    print(f\"'{search}'는 문자열에 들어있지 않습니다.\")"
   ]
  },
  {
   "cell_type": "code",
   "execution_count": null,
   "id": "d16446d1",
   "metadata": {},
   "outputs": [],
   "source": []
  },
  {
   "cell_type": "code",
   "execution_count": null,
   "id": "f37f0ae8",
   "metadata": {},
   "outputs": [],
   "source": []
  },
  {
   "cell_type": "code",
   "execution_count": null,
   "id": "b11acfe7",
   "metadata": {},
   "outputs": [],
   "source": []
  }
 ],
 "metadata": {
  "kernelspec": {
   "display_name": "Python 3 (ipykernel)",
   "language": "python",
   "name": "python3"
  },
  "language_info": {
   "codemirror_mode": {
    "name": "ipython",
    "version": 3
   },
   "file_extension": ".py",
   "mimetype": "text/x-python",
   "name": "python",
   "nbconvert_exporter": "python",
   "pygments_lexer": "ipython3",
   "version": "3.9.13"
  },
  "toc": {
   "base_numbering": 1,
   "nav_menu": {},
   "number_sections": true,
   "sideBar": true,
   "skip_h1_title": false,
   "title_cell": "Table of Contents",
   "title_sidebar": "Contents",
   "toc_cell": false,
   "toc_position": {
    "height": "calc(100% - 180px)",
    "left": "10px",
    "top": "150px",
    "width": "339.091px"
   },
   "toc_section_display": true,
   "toc_window_display": true
  },
  "varInspector": {
   "cols": {
    "lenName": 16,
    "lenType": 16,
    "lenVar": 40
   },
   "kernels_config": {
    "python": {
     "delete_cmd_postfix": "",
     "delete_cmd_prefix": "del ",
     "library": "var_list.py",
     "varRefreshCmd": "print(var_dic_list())"
    },
    "r": {
     "delete_cmd_postfix": ") ",
     "delete_cmd_prefix": "rm(",
     "library": "var_list.r",
     "varRefreshCmd": "cat(var_dic_list()) "
    }
   },
   "types_to_exclude": [
    "module",
    "function",
    "builtin_function_or_method",
    "instance",
    "_Feature"
   ],
   "window_display": false
  }
 },
 "nbformat": 4,
 "nbformat_minor": 5
}
