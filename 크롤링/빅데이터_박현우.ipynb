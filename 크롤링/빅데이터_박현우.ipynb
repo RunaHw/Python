{
 "cells": [
  {
   "cell_type": "markdown",
   "id": "26b267c9",
   "metadata": {},
   "source": [
    "# Question"
   ]
  },
  {
   "cell_type": "markdown",
   "id": "0fa3f979",
   "metadata": {},
   "source": [
    "## 문제\n",
    "1.a. 로그수집\n",
    "2.f. 크롤링\n",
    "3.c. 오픈API\n",
    "4.h. 센서수집"
   ]
  },
  {
   "cell_type": "markdown",
   "id": "c55c7393",
   "metadata": {},
   "source": [
    "## 문제\n",
    "    - 개념 : 웹페이지를 그대로 가져와서 필요한 데이터를 추출하여 수집 하는 행위\n",
    "    - 필요성 : 대량의 데이터를 가져오기에 편하며, 실시간 정보를 수집하기에 유용하다."
   ]
  },
  {
   "cell_type": "markdown",
   "id": "53304593",
   "metadata": {},
   "source": [
    "## 문제\n",
    "    - BeautifulSoup 모듈 : 우리가 사용하고자 하는 데이터를 컴퓨터가 이해할 수 있도록 추출 또는 변환 시켜주는 모듈이다."
   ]
  },
  {
   "cell_type": "markdown",
   "id": "833b4ea1",
   "metadata": {},
   "source": [
    "## 문제\n",
    "    - 1번의 보기는 찾아서 가져오고자 하는 요소가 1개이지만 \n",
    "        2번 보기는 복수개를 가져온다. --> 복수개를 가져오기 때문에 list형태로 넘어온다."
   ]
  },
  {
   "cell_type": "markdown",
   "id": "56e0161e",
   "metadata": {},
   "source": [
    "## 문제\n",
    "    - 첫번쨰 (\"span#this_span\")\n",
    "    - 두번쨰 (text)"
   ]
  },
  {
   "cell_type": "markdown",
   "id": "49be5910",
   "metadata": {},
   "source": [
    "# Question"
   ]
  },
  {
   "cell_type": "markdown",
   "id": "cfdd4833",
   "metadata": {},
   "source": [
    "## 문제"
   ]
  },
  {
   "cell_type": "code",
   "execution_count": 37,
   "id": "07a26b8d",
   "metadata": {
    "ExecuteTime": {
     "end_time": "2023-07-20T02:31:26.993612Z",
     "start_time": "2023-07-20T02:31:19.878819Z"
    }
   },
   "outputs": [],
   "source": [
    "from selenium import webdriver as wb\n",
    "from selenium.webdriver.common.keys import Keys\n",
    "from selenium.webdriver.common.by import By\n",
    "import time\n",
    "\n",
    "driver = wb.Chrome()\n",
    "driver.get(\"https://www.naver.com/\")\n",
    "time.sleep(1)\n",
    "search = driver.find_element(By.CSS_SELECTOR, \"input#query\")\n",
    "search.send_keys(\"크롤링\")\n",
    "search.send_keys(Keys.ENTER)\n",
    "# 확인하기 힘들어서 quit은 일부러 안썼습니다."
   ]
  },
  {
   "cell_type": "markdown",
   "id": "339eb3fb",
   "metadata": {},
   "source": [
    "## 문제"
   ]
  },
  {
   "cell_type": "code",
   "execution_count": 38,
   "id": "b997a590",
   "metadata": {
    "ExecuteTime": {
     "end_time": "2023-07-20T02:34:07.174809Z",
     "start_time": "2023-07-20T02:32:09.854723Z"
    },
    "collapsed": true
   },
   "outputs": [
    {
     "name": "stdout",
     "output_type": "stream",
     "text": [
      "                                                  상품명       가격\n",
      "순서                                                            \n",
      "1                                (클럽전용) 이마트24 1만원 금액권  10,000원\n",
      "2                 제스프리 골드키위 점보 2.6kg (17개 내외)(중복쿠폰할인)  23,500원\n",
      "3                       펩시콜라 제로 210ml x 60캔 (30캔 2박스)  33,600원\n",
      "4                                          (KFC) 3만원권  25,800원\n",
      "5                     엄마랑 낱말카드 210장 세이펜 호환버전/세이펜 선택구매  16,900원\n",
      "6                     (유니버스클럽 전용) 메가박스 일반예매권 2D-주중/주말  15,000원\n",
      "7                의성자두 후무사 자두 2kg 중대(개당 100g내외)// 냉장포장  14,600원\n",
      "8   쿠폰23440원) 1등급 농협 안심 한우 국거리 덩어리 or 불고기 500g+500...  27,900원\n",
      "9                      칠성사이다 210ml x 30캔/탄산음료/사이다/음료수  19,400원\n",
      "10                        신라면+튀김우동+새우탕+오짬뽕 6입4개(총24개)  19,900원\n",
      "11                                 칠성사이다 제로 210ml캔30입  19,400원\n",
      "12                   북메카 여름방학특집 123 리더스 워크북 그래픽노블 균일가  27,900원\n",
      "13  JEEP(지프) 등산모자 CA 0352 남성.여성공용 벙거지 낚시 버킷햇 남자 여자 여름  18,000원\n",
      "14                                       (KFC) 징거텐더콤보   6,500원\n",
      "15                                (특가) 소마셈 팩토 세트 선택구매  34,580원\n",
      "16                    후디스 초유단백질 2개 +보틀1 (7/20 단하루 특가)  22,900원\n",
      "17                        G 홍천철원 22년산 당진 해나루 삼광쌀 10kg  34,500원\n",
      "18       시매쓰 영재사고력수학 1031(2023개정판) / 과학 1031 단계별 선택구매  59,720원\n",
      "19                                 신라면120G x 20입 (박스)  17,900원\n",
      "20                              칠성사이다 제로 블루라임 355캔24캔  24,800원\n"
     ]
    }
   ],
   "source": [
    "from selenium import webdriver as wb\n",
    "from selenium.webdriver.common.by import By\n",
    "import pandas as pd\n",
    "import time\n",
    "\n",
    "driver = wb.Chrome()\n",
    "driver.get(\"https://www.gmarket.co.kr/n/best\")\n",
    "time.sleep(1)\n",
    "\n",
    "\n",
    "rank_list = []\n",
    "title_list = []\n",
    "price_list = []\n",
    "for i in range(20) :\n",
    "    rank_list.append(i+1)\n",
    "    imgs = driver.find_elements(By.CSS_SELECTOR, \"img.image__lazy.image__load\")\n",
    "    imgs[i].click()\n",
    "    time.sleep(1)\n",
    "    title_list.append(driver.find_element(By.CSS_SELECTOR, \"h1.itemtit\").text)\n",
    "    price_list.append(driver.find_element(By.CSS_SELECTOR, \"strong.price_real\").text)\n",
    "    driver.back()\n",
    "    time.sleep(1)\n",
    "\n",
    "top20 = pd.DataFrame({\"순서\" : rank_list, \"상품명\" : title_list, \"가격\" : price_list})\n",
    "top20.set_index(\"순서\", inplace= True)\n",
    "print(top20)\n",
    "driver.quit()"
   ]
  },
  {
   "cell_type": "markdown",
   "id": "fd703989",
   "metadata": {},
   "source": [
    "## 문제"
   ]
  },
  {
   "cell_type": "code",
   "execution_count": 39,
   "id": "42f04103",
   "metadata": {
    "ExecuteTime": {
     "end_time": "2023-07-20T02:40:05.975628Z",
     "start_time": "2023-07-20T02:40:00.735136Z"
    },
    "collapsed": true
   },
   "outputs": [
    {
     "name": "stdout",
     "output_type": "stream",
     "text": [
      "                      가수명                                곡명\n",
      "순위                                                         \n",
      "1                NewJeans                         Super Shy\n",
      "2                      정국  Seven (feat. Latto) - Clean Ver.\n",
      "3                 (여자)아이들                    퀸카 (Queencard)\n",
      "4                     박재정                          헤어지자 말해요\n",
      "5               IVE (아이브)                              I AM\n",
      "..                    ...                               ...\n",
      "96              경서예지, 전건호                     다정히 내 이름을 부르면\n",
      "97                    EXO                       Hear Me Out\n",
      "98             김민석 (멜로망스)         예뻤어 (여름날 우리 X 김민석 (멜로망스))\n",
      "99   ZEROBASEONE (제로베이스원)                      우주먼지 (and I)\n",
      "100                  10CM                             그라데이션\n",
      "\n",
      "[100 rows x 2 columns]\n"
     ]
    }
   ],
   "source": [
    "from selenium import webdriver as wb\n",
    "from selenium.webdriver.common.by import By\n",
    "import pandas as pd\n",
    "import time\n",
    "\n",
    "driver = wb.Chrome()\n",
    "driver.get(\"https://www.melon.com/chart/\")\n",
    "song = driver.find_elements(By.CSS_SELECTOR, \"div.ellipsis.rank01>span>a\")\n",
    "singer = driver.find_elements(By.CSS_SELECTOR, \"div.ellipsis.rank02\")\n",
    "\n",
    "rank_list = []\n",
    "singer_list = []\n",
    "song_list = []\n",
    "for i in range(len(song)):\n",
    "    rank_list.append(i+1)\n",
    "    singer_list.append(singer[i].text)\n",
    "    song_list.append(song[i].text)\n",
    "    \n",
    "melon_top100 = pd.DataFrame({\"순위\" : rank_list, \"가수명\" : singer_list, \"곡명\" : song_list})\n",
    "melon_top100.set_index(\"순위\", inplace=True)\n",
    "melon.to_csv(\"멜론TOP100모음집.csv\", encoding=\"euc-kr\")\n",
    "print(melon_top100)\n",
    "driver.quit()"
   ]
  },
  {
   "cell_type": "markdown",
   "id": "5f0898aa",
   "metadata": {},
   "source": [
    "## 문제"
   ]
  },
  {
   "cell_type": "code",
   "execution_count": 41,
   "id": "4221835e",
   "metadata": {
    "ExecuteTime": {
     "end_time": "2023-07-20T02:41:05.391119Z",
     "start_time": "2023-07-20T02:40:52.231131Z"
    }
   },
   "outputs": [
    {
     "name": "stdout",
     "output_type": "stream",
     "text": [
      "                  메뉴     가격\n",
      "순서                         \n",
      "1           오리 영양도시락  6,900\n",
      "2           통살 오징어튀김  2,900\n",
      "3    미나리 오징어 덮밥(매운맛)  5,500\n",
      "4   미나리 오징어 덮밥(오리지널)  5,500\n",
      "5       열무 감초고추장 비빔밥  4,500\n",
      "..               ...    ...\n",
      "93           무말랭이 무침    500\n",
      "94               한솥밥  1,000\n",
      "95               현미밥  1,700\n",
      "96        리얼 티라미수 찰떡  1,700\n",
      "97          리얼꿀 미니호떡  2,200\n",
      "\n",
      "[97 rows x 2 columns]\n"
     ]
    }
   ],
   "source": [
    "from selenium import webdriver as wb\n",
    "from selenium.webdriver.common.by import By\n",
    "from selenium.webdriver.common.keys import Keys\n",
    "import pandas as pd\n",
    "import time\n",
    "\n",
    "driver = wb.Chrome()\n",
    "driver.get(\"https://www.hsd.co.kr/menu/menu_list\")\n",
    "time.sleep(1)\n",
    "\n",
    "\n",
    "try:\n",
    "    while True :\n",
    "        btn = driver.find_element(By.CSS_SELECTOR, \".c_05\")\n",
    "        btn.click()\n",
    "        time.sleep(1)\n",
    "except:\n",
    "    time.sleep(1)\n",
    "menu = driver.find_elements(By.CSS_SELECTOR, \"div.item-text > h4.h.fz_03\")\n",
    "price = driver.find_elements(By.CSS_SELECTOR, \"div.item-price > strong\")\n",
    "    \n",
    "rank_list = []\n",
    "price_list = []\n",
    "menu_list = []\n",
    "for i in range(len(price)):\n",
    "    rank_list.append(i+1)\n",
    "    price_list.append(price[i].text)\n",
    "    menu_list.append(menu[i].text)\n",
    "    \n",
    "hansot = pd.DataFrame({\"순서\" : rank_list, \"메뉴\" : menu_list, \"가격\" : price_list})\n",
    "hansot.set_index(\"순서\", inplace=True)\n",
    "hansot.to_csv(\"한솥메뉴모음집.csv\", encoding=\"euc-kr\")\n",
    "print(hansot)\n",
    "driver.quit()"
   ]
  },
  {
   "cell_type": "code",
   "execution_count": null,
   "id": "9411dcb9",
   "metadata": {},
   "outputs": [],
   "source": []
  }
 ],
 "metadata": {
  "kernelspec": {
   "display_name": "Python 3 (ipykernel)",
   "language": "python",
   "name": "python3"
  },
  "language_info": {
   "codemirror_mode": {
    "name": "ipython",
    "version": 3
   },
   "file_extension": ".py",
   "mimetype": "text/x-python",
   "name": "python",
   "nbconvert_exporter": "python",
   "pygments_lexer": "ipython3",
   "version": "3.9.13"
  },
  "toc": {
   "base_numbering": 1,
   "nav_menu": {},
   "number_sections": true,
   "sideBar": true,
   "skip_h1_title": false,
   "title_cell": "Table of Contents",
   "title_sidebar": "Contents",
   "toc_cell": false,
   "toc_position": {},
   "toc_section_display": true,
   "toc_window_display": false
  },
  "varInspector": {
   "cols": {
    "lenName": 16,
    "lenType": 16,
    "lenVar": 40
   },
   "kernels_config": {
    "python": {
     "delete_cmd_postfix": "",
     "delete_cmd_prefix": "del ",
     "library": "var_list.py",
     "varRefreshCmd": "print(var_dic_list())"
    },
    "r": {
     "delete_cmd_postfix": ") ",
     "delete_cmd_prefix": "rm(",
     "library": "var_list.r",
     "varRefreshCmd": "cat(var_dic_list()) "
    }
   },
   "types_to_exclude": [
    "module",
    "function",
    "builtin_function_or_method",
    "instance",
    "_Feature"
   ],
   "window_display": false
  }
 },
 "nbformat": 4,
 "nbformat_minor": 5
}
