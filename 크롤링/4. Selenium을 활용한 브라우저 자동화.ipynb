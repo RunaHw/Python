{
 "cells": [
  {
   "cell_type": "code",
   "execution_count": 1,
   "id": "591baee5",
   "metadata": {
    "ExecuteTime": {
     "end_time": "2023-07-18T01:31:08.809681Z",
     "start_time": "2023-07-18T01:31:06.097960Z"
    },
    "collapsed": true
   },
   "outputs": [
    {
     "name": "stdout",
     "output_type": "stream",
     "text": [
      "Requirement already satisfied: selenium in c:\\users\\smhrd\\anaconda3\\lib\\site-packages (4.10.0)\n",
      "Requirement already satisfied: trio~=0.17 in c:\\users\\smhrd\\anaconda3\\lib\\site-packages (from selenium) (0.22.2)\n",
      "Requirement already satisfied: urllib3[socks]<3,>=1.26 in c:\\users\\smhrd\\anaconda3\\lib\\site-packages (from selenium) (1.26.11)\n",
      "Requirement already satisfied: trio-websocket~=0.9 in c:\\users\\smhrd\\anaconda3\\lib\\site-packages (from selenium) (0.10.3)\n",
      "Requirement already satisfied: certifi>=2021.10.8 in c:\\users\\smhrd\\anaconda3\\lib\\site-packages (from selenium) (2022.9.14)\n",
      "Requirement already satisfied: attrs>=20.1.0 in c:\\users\\smhrd\\anaconda3\\lib\\site-packages (from trio~=0.17->selenium) (21.4.0)\n",
      "Requirement already satisfied: sortedcontainers in c:\\users\\smhrd\\anaconda3\\lib\\site-packages (from trio~=0.17->selenium) (2.4.0)\n",
      "Requirement already satisfied: idna in c:\\users\\smhrd\\anaconda3\\lib\\site-packages (from trio~=0.17->selenium) (3.3)\n",
      "Requirement already satisfied: cffi>=1.14 in c:\\users\\smhrd\\anaconda3\\lib\\site-packages (from trio~=0.17->selenium) (1.15.1)\n",
      "Requirement already satisfied: exceptiongroup>=1.0.0rc9 in c:\\users\\smhrd\\anaconda3\\lib\\site-packages (from trio~=0.17->selenium) (1.1.2)\n",
      "Requirement already satisfied: outcome in c:\\users\\smhrd\\anaconda3\\lib\\site-packages (from trio~=0.17->selenium) (1.2.0)\n",
      "Requirement already satisfied: sniffio in c:\\users\\smhrd\\anaconda3\\lib\\site-packages (from trio~=0.17->selenium) (1.2.0)\n",
      "Requirement already satisfied: wsproto>=0.14 in c:\\users\\smhrd\\anaconda3\\lib\\site-packages (from trio-websocket~=0.9->selenium) (1.2.0)\n",
      "Requirement already satisfied: PySocks!=1.5.7,<2.0,>=1.5.6 in c:\\users\\smhrd\\anaconda3\\lib\\site-packages (from urllib3[socks]<3,>=1.26->selenium) (1.7.1)\n",
      "Requirement already satisfied: pycparser in c:\\users\\smhrd\\anaconda3\\lib\\site-packages (from cffi>=1.14->trio~=0.17->selenium) (2.21)\n",
      "Requirement already satisfied: h11<1,>=0.9.0 in c:\\users\\smhrd\\anaconda3\\lib\\site-packages (from wsproto>=0.14->trio-websocket~=0.9->selenium) (0.14.0)\n"
     ]
    }
   ],
   "source": [
    "# 라이브러리 설치\n",
    "!pip install selenium"
   ]
  },
  {
   "cell_type": "code",
   "execution_count": 8,
   "id": "5a499fc5",
   "metadata": {
    "ExecuteTime": {
     "end_time": "2023-07-18T01:31:17.083310Z",
     "start_time": "2023-07-18T01:31:17.077327Z"
    }
   },
   "outputs": [],
   "source": [
    "# 크롬드라이버를 설치\n",
    "# 1. 내가 쓰고있는 브라우저와 같은 버전을 설치\n",
    "# 2. 드라이버의 경로는 작업중인 폴더에 넣기!"
   ]
  },
  {
   "cell_type": "code",
   "execution_count": 9,
   "id": "f3c53cb6",
   "metadata": {
    "ExecuteTime": {
     "end_time": "2023-07-18T01:31:17.995978Z",
     "start_time": "2023-07-18T01:31:17.981025Z"
    }
   },
   "outputs": [],
   "source": [
    "# 1. 브라우저의 역할을 해주는 라이브러리\n",
    "from selenium import webdriver as wb\n",
    "# 2. 키보드\n",
    "from selenium.webdriver.common.keys import Keys \n",
    "# 3. 구분자 역할\n",
    "from selenium.webdriver.common.by import By"
   ]
  },
  {
   "cell_type": "code",
   "execution_count": 10,
   "id": "154bdb37",
   "metadata": {
    "ExecuteTime": {
     "end_time": "2023-07-18T01:31:19.838714Z",
     "start_time": "2023-07-18T01:31:18.788822Z"
    }
   },
   "outputs": [],
   "source": [
    "# 1. 브라우저를 실행\n",
    "driver = wb.Chrome()"
   ]
  },
  {
   "cell_type": "code",
   "execution_count": 11,
   "id": "c6d5cc59",
   "metadata": {
    "ExecuteTime": {
     "end_time": "2023-07-18T01:31:26.029137Z",
     "start_time": "2023-07-18T01:31:25.468680Z"
    }
   },
   "outputs": [],
   "source": [
    "# 2. 네이버로 이동\n",
    "driver.get('http://naver.com')"
   ]
  },
  {
   "cell_type": "code",
   "execution_count": 29,
   "id": "49910ccb",
   "metadata": {
    "ExecuteTime": {
     "end_time": "2023-07-18T01:40:36.605700Z",
     "start_time": "2023-07-18T01:40:36.588342Z"
    }
   },
   "outputs": [],
   "source": [
    "# 3. 검색창에 \"장마\"검색\n",
    "# 특정 요소를 검사하기 위해서 find_element(s)(By.구분자)\n",
    "\n",
    "search = driver.find_element(By.ID, 'query')"
   ]
  },
  {
   "cell_type": "code",
   "execution_count": 16,
   "id": "6418c423",
   "metadata": {
    "ExecuteTime": {
     "end_time": "2023-07-18T01:32:50.178272Z",
     "start_time": "2023-07-18T01:32:50.140389Z"
    }
   },
   "outputs": [],
   "source": [
    "# 인풋창에 특저 값을 보낼때는 send_keys(\"값\")\n",
    "search.send_keys(\"장마\")"
   ]
  },
  {
   "cell_type": "code",
   "execution_count": 21,
   "id": "6ee2f181",
   "metadata": {
    "ExecuteTime": {
     "end_time": "2023-07-18T01:35:11.766964Z",
     "start_time": "2023-07-18T01:35:11.108957Z"
    }
   },
   "outputs": [],
   "source": [
    "# 검색청에 엔터를 쳐서 검색\n",
    "search.send_keys(Keys.ENTER)"
   ]
  },
  {
   "cell_type": "code",
   "execution_count": 30,
   "id": "6ea372a8",
   "metadata": {
    "ExecuteTime": {
     "end_time": "2023-07-18T01:40:38.504797Z",
     "start_time": "2023-07-18T01:40:38.484234Z"
    }
   },
   "outputs": [],
   "source": [
    "#화면의 스크롤을 최하단으로 이동\n",
    "# 1.바디태그에게 명령을 줘야함\n",
    "body = driver.find_element(By.TAG_NAME, 'body')"
   ]
  },
  {
   "cell_type": "code",
   "execution_count": 34,
   "id": "81767e83",
   "metadata": {
    "ExecuteTime": {
     "end_time": "2023-07-18T01:41:04.471145Z",
     "start_time": "2023-07-18T01:41:04.428813Z"
    }
   },
   "outputs": [],
   "source": [
    "body.send_keys(Keys.END)"
   ]
  },
  {
   "cell_type": "code",
   "execution_count": 35,
   "id": "9c7f0c7b",
   "metadata": {
    "ExecuteTime": {
     "end_time": "2023-07-18T01:42:49.649305Z",
     "start_time": "2023-07-18T01:42:49.268316Z"
    }
   },
   "outputs": [],
   "source": [
    "# 뒤로가기 실행\n",
    "# 뒤로가기 버튼은 태그가 아니다!\n",
    "driver.back()"
   ]
  },
  {
   "cell_type": "code",
   "execution_count": 38,
   "id": "90fa2e1f",
   "metadata": {
    "ExecuteTime": {
     "end_time": "2023-07-18T01:45:03.359112Z",
     "start_time": "2023-07-18T01:45:03.332969Z"
    }
   },
   "outputs": [],
   "source": [
    "# 검색창에 이강인 검색\n",
    "search = driver.find_element(By.ID, 'query')"
   ]
  },
  {
   "cell_type": "code",
   "execution_count": 39,
   "id": "89ea5bc0",
   "metadata": {
    "ExecuteTime": {
     "end_time": "2023-07-18T01:45:17.806055Z",
     "start_time": "2023-07-18T01:45:17.749275Z"
    }
   },
   "outputs": [],
   "source": [
    "search.send_keys(\"이강인\")"
   ]
  },
  {
   "cell_type": "code",
   "execution_count": 41,
   "id": "0d3bad19",
   "metadata": {
    "ExecuteTime": {
     "end_time": "2023-07-18T01:46:05.800011Z",
     "start_time": "2023-07-18T01:46:05.596212Z"
    }
   },
   "outputs": [],
   "source": [
    "driver.back()"
   ]
  },
  {
   "cell_type": "code",
   "execution_count": 42,
   "id": "23d10c1d",
   "metadata": {
    "ExecuteTime": {
     "end_time": "2023-07-18T01:46:11.295781Z",
     "start_time": "2023-07-18T01:46:11.276356Z"
    }
   },
   "outputs": [],
   "source": [
    "search = driver.find_element(By.ID, 'query')"
   ]
  },
  {
   "cell_type": "code",
   "execution_count": 43,
   "id": "ddc3dbe3",
   "metadata": {
    "ExecuteTime": {
     "end_time": "2023-07-18T01:46:15.601810Z",
     "start_time": "2023-07-18T01:46:15.556831Z"
    }
   },
   "outputs": [],
   "source": [
    "search.send_keys(\"이강인\")"
   ]
  },
  {
   "cell_type": "code",
   "execution_count": 46,
   "id": "d9dff9c0",
   "metadata": {
    "ExecuteTime": {
     "end_time": "2023-07-18T01:49:53.320206Z",
     "start_time": "2023-07-18T01:49:52.588042Z"
    }
   },
   "outputs": [],
   "source": [
    "# 검색버튼을 클릭\n",
    "btn = driver.find_element(By.CLASS_NAME, 'btn_search')\n",
    "btn.click()"
   ]
  },
  {
   "cell_type": "code",
   "execution_count": 52,
   "id": "5bd018f4",
   "metadata": {
    "ExecuteTime": {
     "end_time": "2023-07-18T02:10:30.652177Z",
     "start_time": "2023-07-18T02:10:10.443783Z"
    }
   },
   "outputs": [],
   "source": [
    "# 창 종료\n",
    "driver.quit()"
   ]
  },
  {
   "cell_type": "markdown",
   "id": "d7c1e659",
   "metadata": {
    "ExecuteTime": {
     "end_time": "2023-07-18T02:05:45.310126Z",
     "start_time": "2023-07-18T02:05:44.843619Z"
    }
   },
   "source": [
    "# 한솥도시락 정보수집"
   ]
  },
  {
   "cell_type": "code",
   "execution_count": 66,
   "id": "0159519a",
   "metadata": {
    "ExecuteTime": {
     "end_time": "2023-07-18T02:19:04.771213Z",
     "start_time": "2023-07-18T02:19:03.708578Z"
    }
   },
   "outputs": [],
   "source": [
    "driver = wb.Chrome()"
   ]
  },
  {
   "cell_type": "code",
   "execution_count": 67,
   "id": "06efcaee",
   "metadata": {
    "ExecuteTime": {
     "end_time": "2023-07-18T02:19:08.894490Z",
     "start_time": "2023-07-18T02:19:07.524325Z"
    }
   },
   "outputs": [],
   "source": [
    "driver.get('https://www.hsd.co.kr/menu/menu_list')"
   ]
  },
  {
   "cell_type": "code",
   "execution_count": 89,
   "id": "f7295b25",
   "metadata": {
    "ExecuteTime": {
     "end_time": "2023-07-18T02:30:10.359161Z",
     "start_time": "2023-07-18T02:30:10.339230Z"
    },
    "scrolled": false
   },
   "outputs": [
    {
     "data": {
      "text/plain": [
       "59"
      ]
     },
     "execution_count": 89,
     "metadata": {},
     "output_type": "execute_result"
    }
   ],
   "source": [
    "menu = driver.find_elements(By.CLASS_NAME, 'h.fz_03')\n",
    "len(menu)"
   ]
  },
  {
   "cell_type": "code",
   "execution_count": 69,
   "id": "3b629210",
   "metadata": {
    "ExecuteTime": {
     "end_time": "2023-07-18T02:19:16.031469Z",
     "start_time": "2023-07-18T02:19:15.691495Z"
    },
    "collapsed": true
   },
   "outputs": [
    {
     "name": "stdout",
     "output_type": "stream",
     "text": [
      "오리 영양도시락\n",
      "통살 오징어튀김\n",
      "미나리 오징어 덮밥(매운맛)\n",
      "미나리 오징어 덮밥(오리지널)\n",
      "열무 감초고추장 비빔밥\n",
      "열무 두부강된장 비빔밥\n",
      "해바라기\n",
      "매화\n",
      "진달래\n",
      "개나리\n",
      "돈까스도련님고기고기\n",
      "탕수육도련님고기고기\n",
      "새치 고기고기\n",
      "돈치 고기고기\n",
      "카츠카츠 도시락\n",
      "숯불직화구이\n",
      "소불고기\n",
      "메가치킨제육\n",
      "칠리 찹쌀탕수육도련님\n",
      "동백\n",
      "치킨제육\n",
      "돈까스도련님\n",
      "제육볶음\n",
      "돈치스팸 도시락\n",
      "제육 김치찌개 정식\n",
      "제육 김치 부대찌개 정식\n",
      "돈치스팸 김치 부대찌개 정식\n",
      "빅치킨마요 김치 부대찌개 정식\n",
      "치킨마요 김치 부대찌개 정식\n",
      "빅치킨마요 김치찌개 정식\n",
      "치킨마요 김치찌개 정식\n",
      "새후마요\n",
      "메가스팸마요\n",
      "스팸마요\n",
      "메가치킨마요\n",
      "왕치킨마요\n",
      "빅치킨마요\n",
      "치킨마요\n",
      "참치마요\n",
      "돈치마요\n",
      "돈까스 카레\n",
      "스팸 김치볶음밥\n",
      "김치볶음밥\n",
      "스팸철판볶음밥\n",
      "소불고기 철판볶음밥\n",
      "나시고랭\n",
      "묵은지 김치찌개\n",
      "김치 부대찌개\n",
      "숯불직화구이 덮밥\n",
      "마파두부 덮밥\n",
      "왕카레돈까스덮밥\n",
      "새우돈까스 덮밥\n",
      "돈까스 덮밥\n",
      "아보카도 훈제 닭가슴살 명란 비빔밥\n",
      "아보카도 소불고기 명란 비빔밥\n",
      "소불고기 감초고추장 비빔밥\n",
      "시골제육 두부강된장 비빔밥\n",
      "참치야채 감초고추장\n",
      "튼튼도시락\n"
     ]
    }
   ],
   "source": [
    "for i in menu :\n",
    "    print(i.text)"
   ]
  },
  {
   "cell_type": "code",
   "execution_count": 88,
   "id": "bcfe9550",
   "metadata": {
    "ExecuteTime": {
     "end_time": "2023-07-18T02:29:57.517585Z",
     "start_time": "2023-07-18T02:29:57.491310Z"
    },
    "scrolled": true
   },
   "outputs": [
    {
     "data": {
      "text/plain": [
       "59"
      ]
     },
     "execution_count": 88,
     "metadata": {},
     "output_type": "execute_result"
    }
   ],
   "source": [
    "#  가격정보 수집\n",
    "price = driver.find_elements(By.CSS_SELECTOR, 'div.item-price>strong')\n",
    "len(price)"
   ]
  },
  {
   "cell_type": "code",
   "execution_count": 86,
   "id": "c6389144",
   "metadata": {
    "ExecuteTime": {
     "end_time": "2023-07-18T02:26:35.560572Z",
     "start_time": "2023-07-18T02:26:34.955084Z"
    },
    "collapsed": true
   },
   "outputs": [
    {
     "name": "stdout",
     "output_type": "stream",
     "text": [
      "6,900\n",
      "2,900\n",
      "5,500\n",
      "5,500\n",
      "4,500\n",
      "4,900\n",
      "10,000\n",
      "10,500\n",
      "7,800\n",
      "8,500\n",
      "6,300\n",
      "6,000\n",
      "7,000\n",
      "6,000\n",
      "4,800\n",
      "6,600\n",
      "5,500\n",
      "7,500\n",
      "4,400\n",
      "6,000\n",
      "4,900\n",
      "4,800\n",
      "4,500\n",
      "5,000\n",
      "8,600\n",
      "9,000\n",
      "9,000\n",
      "8,000\n",
      "7,400\n",
      "7,500\n",
      "6,900\n",
      "4,500\n",
      "5,800\n",
      "3,900\n",
      "6,000\n",
      "5,000\n",
      "4,300\n",
      "3,700\n",
      "3,500\n",
      "4,000\n",
      "4,700\n",
      "4,700\n",
      "3,900\n",
      "4,700\n",
      "4,900\n",
      "6,200\n",
      "4,900\n",
      "6,000\n",
      "6,000\n",
      "5,000\n",
      "6,000\n",
      "4,200\n",
      "4,100\n",
      "6,500\n",
      "6,500\n",
      "5,400\n",
      "5,200\n",
      "3,500\n",
      "5,000\n"
     ]
    }
   ],
   "source": [
    "for i in price :\n",
    "    print(i.text)"
   ]
  },
  {
   "cell_type": "code",
   "execution_count": 91,
   "id": "9109f5e3",
   "metadata": {
    "ExecuteTime": {
     "end_time": "2023-07-18T02:35:48.787500Z",
     "start_time": "2023-07-18T02:35:48.771178Z"
    }
   },
   "outputs": [],
   "source": [
    "# 더보기 버튼을 클릭해서 모든 데이터를 조회\n",
    "btn_more = driver.find_element(By.CSS_SELECTOR, 'a.c_05')"
   ]
  },
  {
   "cell_type": "code",
   "execution_count": 95,
   "id": "ad3e6c64",
   "metadata": {
    "ExecuteTime": {
     "end_time": "2023-07-18T02:48:43.500309Z",
     "start_time": "2023-07-18T02:48:43.491328Z"
    }
   },
   "outputs": [],
   "source": [
    "# 컴퓨터에게 시간을 부여하는 라이브러리\n",
    "import time"
   ]
  },
  {
   "cell_type": "code",
   "execution_count": 97,
   "id": "bf30d5b8",
   "metadata": {
    "ExecuteTime": {
     "end_time": "2023-07-18T02:49:52.315680Z",
     "start_time": "2023-07-18T02:49:47.219865Z"
    }
   },
   "outputs": [
    {
     "name": "stdout",
     "output_type": "stream",
     "text": [
      "더보기가 완료되었습니다!.\n"
     ]
    }
   ],
   "source": [
    "# 더보기 버튼을 클릭하는데 반복 횟수를 모르니 while문을 작성\n",
    "# But, 더보기 버튼이 완료가 되면 코드가 오류가 발생\n",
    "# HOw? 예외처리를 통해서 오류를 건너뛴다.\n",
    "try:\n",
    "    # 오류 나기전까지 실행하는 공간\n",
    "    while True :\n",
    "        btn_more = driver.find_element(By.CSS_SELECTOR, 'a.c_05')\n",
    "        btn_more.click()\n",
    "        time.sleep(5)\n",
    "except :\n",
    "    # 오류가 난 후 실행하는 공간\n",
    "    print(\"더보기가 완료되었습니다!.\")\n",
    "\n",
    "    "
   ]
  },
  {
   "cell_type": "code",
   "execution_count": 98,
   "id": "532ca53c",
   "metadata": {
    "ExecuteTime": {
     "end_time": "2023-07-18T03:08:08.392729Z",
     "start_time": "2023-07-18T03:08:08.355412Z"
    }
   },
   "outputs": [],
   "source": [
    "price = driver.find_elements(By.CSS_SELECTOR, 'div.item-price>strong')\n",
    "menu = driver.find_elements(By.CLASS_NAME, 'h.fz_03')"
   ]
  },
  {
   "cell_type": "code",
   "execution_count": 101,
   "id": "d7ad19df",
   "metadata": {
    "ExecuteTime": {
     "end_time": "2023-07-18T03:08:25.648511Z",
     "start_time": "2023-07-18T03:08:25.634367Z"
    }
   },
   "outputs": [
    {
     "data": {
      "text/plain": [
       "97"
      ]
     },
     "execution_count": 101,
     "metadata": {},
     "output_type": "execute_result"
    }
   ],
   "source": [
    "len(menu)"
   ]
  },
  {
   "cell_type": "code",
   "execution_count": 105,
   "id": "54687186",
   "metadata": {
    "ExecuteTime": {
     "end_time": "2023-07-18T03:11:06.095245Z",
     "start_time": "2023-07-18T03:11:05.107530Z"
    }
   },
   "outputs": [],
   "source": [
    "rank_list = []\n",
    "price_list = []\n",
    "menu_list = []\n",
    "for i in range(len(price)):\n",
    "    rank_list.append(i+1)\n",
    "    price_list.append(price[i].text)\n",
    "    menu_list.append(menu[i].text)\n",
    "    "
   ]
  },
  {
   "cell_type": "code",
   "execution_count": 106,
   "id": "c70f8df8",
   "metadata": {
    "ExecuteTime": {
     "end_time": "2023-07-18T03:11:06.309393Z",
     "start_time": "2023-07-18T03:11:06.299248Z"
    }
   },
   "outputs": [],
   "source": [
    "import pandas as pd"
   ]
  },
  {
   "cell_type": "code",
   "execution_count": 111,
   "id": "972601cd",
   "metadata": {
    "ExecuteTime": {
     "end_time": "2023-07-18T03:12:24.952318Z",
     "start_time": "2023-07-18T03:12:24.947339Z"
    }
   },
   "outputs": [],
   "source": [
    "hansot = pd.DataFrame({\"순서\" : rank_list, \"메뉴\" : menu_list, \"가격\":price_list})\n",
    "hansot.set_index(\"순서\", inplace=True)"
   ]
  },
  {
   "cell_type": "code",
   "execution_count": 113,
   "id": "e3570c8f",
   "metadata": {
    "ExecuteTime": {
     "end_time": "2023-07-18T03:12:51.686779Z",
     "start_time": "2023-07-18T03:12:51.674812Z"
    }
   },
   "outputs": [],
   "source": [
    "hansot.to_html(\"한솥메뉴.html\")"
   ]
  },
  {
   "cell_type": "markdown",
   "id": "97d9df68",
   "metadata": {},
   "source": [
    "# 한셀에 합치기"
   ]
  },
  {
   "cell_type": "code",
   "execution_count": 116,
   "id": "4c8f3943",
   "metadata": {
    "ExecuteTime": {
     "end_time": "2023-07-18T04:36:56.434139Z",
     "start_time": "2023-07-18T04:36:45.153508Z"
    }
   },
   "outputs": [
    {
     "name": "stdout",
     "output_type": "stream",
     "text": [
      "더보기가 완료되었습니다!.\n"
     ]
    }
   ],
   "source": [
    "from selenium import webdriver as wb\n",
    "from selenium.webdriver.common.keys import Keys\n",
    "from selenium.webdriver.common.by import By\n",
    "import pandas as pd\n",
    "\n",
    "driver = wb.Chrome()\n",
    "driver.get(\"https://www.hsd.co.kr/menu/menu_list\")\n",
    "time.sleep(1)\n",
    "try :\n",
    "    while True :\n",
    "        btn_more = driver.find_element(By.CSS_SELECTOR,\"a.c_05\")\n",
    "        btn_more.click()\n",
    "        time.sleep(1)\n",
    "except:\n",
    "    print(\"더보기가 완료되었습니다!.\")\n",
    "    \n",
    "menu = driver.find_elements(By.CLASS_NAME,\"h.fz_03\")\n",
    "price = driver.find_elements(By.CSS_SELECTOR,\"div.item-price > strong\")\n",
    "\n",
    "menu_list = []\n",
    "price_list = []\n",
    "for i in range(len(menu)):\n",
    "    menu_list.append(menu[i].text)\n",
    "    price_list.append(price[i].text)\n",
    "\n",
    "dic = {\"메뉴이름\":menu_list,\"가격\" : price_list}\n",
    "hansot = pd.DataFrame(dic)\n",
    "hansot.to_csv(\"한솥메뉴.csv\", encoding=\"euc-kr\")\n",
    "\n",
    "driver.quit()"
   ]
  }
 ],
 "metadata": {
  "kernelspec": {
   "display_name": "Python 3 (ipykernel)",
   "language": "python",
   "name": "python3"
  },
  "language_info": {
   "codemirror_mode": {
    "name": "ipython",
    "version": 3
   },
   "file_extension": ".py",
   "mimetype": "text/x-python",
   "name": "python",
   "nbconvert_exporter": "python",
   "pygments_lexer": "ipython3",
   "version": "3.9.13"
  },
  "toc": {
   "base_numbering": 1,
   "nav_menu": {},
   "number_sections": true,
   "sideBar": true,
   "skip_h1_title": false,
   "title_cell": "Table of Contents",
   "title_sidebar": "Contents",
   "toc_cell": false,
   "toc_position": {},
   "toc_section_display": true,
   "toc_window_display": false
  },
  "varInspector": {
   "cols": {
    "lenName": 16,
    "lenType": 16,
    "lenVar": 40
   },
   "kernels_config": {
    "python": {
     "delete_cmd_postfix": "",
     "delete_cmd_prefix": "del ",
     "library": "var_list.py",
     "varRefreshCmd": "print(var_dic_list())"
    },
    "r": {
     "delete_cmd_postfix": ") ",
     "delete_cmd_prefix": "rm(",
     "library": "var_list.r",
     "varRefreshCmd": "cat(var_dic_list()) "
    }
   },
   "types_to_exclude": [
    "module",
    "function",
    "builtin_function_or_method",
    "instance",
    "_Feature"
   ],
   "window_display": false
  }
 },
 "nbformat": 4,
 "nbformat_minor": 5
}
